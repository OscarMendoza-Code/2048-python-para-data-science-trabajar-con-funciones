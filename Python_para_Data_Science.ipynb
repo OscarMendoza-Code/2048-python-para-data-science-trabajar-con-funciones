{
  "nbformat": 4,
  "nbformat_minor": 0,
  "metadata": {
    "colab": {
      "provenance": [],
      "include_colab_link": true
    },
    "kernelspec": {
      "name": "python3",
      "display_name": "Python 3"
    },
    "language_info": {
      "name": "python"
    }
  },
  "cells": [
    {
      "cell_type": "markdown",
      "metadata": {
        "id": "view-in-github",
        "colab_type": "text"
      },
      "source": [
        "<a href=\"https://colab.research.google.com/github/OscarMendoza-Code/2048-python-para-data-science-trabajar-con-funciones/blob/main/Python_para_Data_Science.ipynb\" target=\"_parent\"><img src=\"https://colab.research.google.com/assets/colab-badge.svg\" alt=\"Open In Colab\"/></a>"
      ]
    },
    {
      "cell_type": "markdown",
      "source": [
        "# <font color=green> **PYTHON PARA DATA SCIENCE**\n",
        "---"
      ],
      "metadata": {
        "id": "AGc2Cf4cBwd7"
      }
    },
    {
      "cell_type": "markdown",
      "source": [
        "## <font color=green> 1. BIBLIOTECAS\n",
        "---"
      ],
      "metadata": {
        "id": "fH2br9y9CYZ8"
      }
    },
    {
      "cell_type": "markdown",
      "source": [
        "## 1.1 Instalación e importación de bibliotecas\n",
        "\n",
        "En el lenguaje Python se utiliza bastante el concepto de bibliotecas como un conjunto de módulos y funciones útiles para el usuario. Estas favorecen la reducción del uso de códigos en el proyecto, manteniendo únicamente los recursos necesarios para la tarea que deseamos realizar."
      ],
      "metadata": {
        "id": "jjEKgfiuFzHz"
      }
    },
    {
      "cell_type": "markdown",
      "source": [
        "### Instalando una biblioteca"
      ],
      "metadata": {
        "id": "JjpazCgqDRfZ"
      }
    },
    {
      "cell_type": "markdown",
      "source": [
        "Para instalar o actualizar una biblioteca en Python, podemos acudir a `pip` que es un gestor de bibliotecas en Python."
      ],
      "metadata": {
        "id": "_qnuIo7oIQYx"
      }
    },
    {
      "cell_type": "markdown",
      "source": [
        "Existe también PYPI que es un repositorio de bibliotecas Python que contiene las bibliotecas más utilizadas por la comunidad junto a su respectiva documentación.\n",
        "\n",
        "- PYPI ([https://pypi.org/](https://pypi.org/))"
      ],
      "metadata": {
        "id": "IHTmQnlXInD1"
      }
    },
    {
      "cell_type": "code",
      "source": [
        "!pip install matplotlib"
      ],
      "metadata": {
        "id": "Rv5sIo7NM5VS",
        "outputId": "e6785226-3c8d-4444-829d-e2ce1b339f1d",
        "colab": {
          "base_uri": "https://localhost:8080/"
        }
      },
      "execution_count": null,
      "outputs": [
        {
          "output_type": "stream",
          "name": "stdout",
          "text": [
            "Requirement already satisfied: matplotlib in /usr/local/lib/python3.11/dist-packages (3.10.0)\n",
            "Requirement already satisfied: contourpy>=1.0.1 in /usr/local/lib/python3.11/dist-packages (from matplotlib) (1.3.2)\n",
            "Requirement already satisfied: cycler>=0.10 in /usr/local/lib/python3.11/dist-packages (from matplotlib) (0.12.1)\n",
            "Requirement already satisfied: fonttools>=4.22.0 in /usr/local/lib/python3.11/dist-packages (from matplotlib) (4.58.4)\n",
            "Requirement already satisfied: kiwisolver>=1.3.1 in /usr/local/lib/python3.11/dist-packages (from matplotlib) (1.4.8)\n",
            "Requirement already satisfied: numpy>=1.23 in /usr/local/lib/python3.11/dist-packages (from matplotlib) (2.0.2)\n",
            "Requirement already satisfied: packaging>=20.0 in /usr/local/lib/python3.11/dist-packages (from matplotlib) (24.2)\n",
            "Requirement already satisfied: pillow>=8 in /usr/local/lib/python3.11/dist-packages (from matplotlib) (11.2.1)\n",
            "Requirement already satisfied: pyparsing>=2.3.1 in /usr/local/lib/python3.11/dist-packages (from matplotlib) (3.2.3)\n",
            "Requirement already satisfied: python-dateutil>=2.7 in /usr/local/lib/python3.11/dist-packages (from matplotlib) (2.9.0.post0)\n",
            "Requirement already satisfied: six>=1.5 in /usr/local/lib/python3.11/dist-packages (from python-dateutil>=2.7->matplotlib) (1.17.0)\n"
          ]
        }
      ]
    },
    {
      "cell_type": "code",
      "source": [
        "matplotlib.__version__"
      ],
      "metadata": {
        "id": "REYsDRqHM6hN",
        "outputId": "8f514e72-cedf-42f8-aaa2-7358e970fe17",
        "colab": {
          "base_uri": "https://localhost:8080/",
          "height": 36
        }
      },
      "execution_count": null,
      "outputs": [
        {
          "output_type": "execute_result",
          "data": {
            "text/plain": [
              "'3.8.1'"
            ],
            "application/vnd.google.colaboratory.intrinsic+json": {
              "type": "string"
            }
          },
          "metadata": {},
          "execution_count": 2
        }
      ]
    },
    {
      "cell_type": "markdown",
      "source": [
        "### Importando una biblioteca"
      ],
      "metadata": {
        "id": "A76TbnDbDehe"
      }
    },
    {
      "cell_type": "code",
      "source": [
        "import matplotlib"
      ],
      "metadata": {
        "id": "_xUxLlZFM728"
      },
      "execution_count": null,
      "outputs": []
    },
    {
      "cell_type": "code",
      "source": [
        "#!pip install matplotlib==3.8.1"
      ],
      "metadata": {
        "id": "xy035zQzM75b",
        "outputId": "6efc05a6-afeb-4f7e-d226-1f6fbf94c2b5",
        "colab": {
          "base_uri": "https://localhost:8080/",
          "height": 690
        }
      },
      "execution_count": null,
      "outputs": [
        {
          "output_type": "stream",
          "name": "stdout",
          "text": [
            "Collecting matplotlib==3.8.1\n",
            "  Downloading matplotlib-3.8.1-cp311-cp311-manylinux_2_17_x86_64.manylinux2014_x86_64.whl.metadata (5.8 kB)\n",
            "Requirement already satisfied: contourpy>=1.0.1 in /usr/local/lib/python3.11/dist-packages (from matplotlib==3.8.1) (1.3.2)\n",
            "Requirement already satisfied: cycler>=0.10 in /usr/local/lib/python3.11/dist-packages (from matplotlib==3.8.1) (0.12.1)\n",
            "Requirement already satisfied: fonttools>=4.22.0 in /usr/local/lib/python3.11/dist-packages (from matplotlib==3.8.1) (4.58.4)\n",
            "Requirement already satisfied: kiwisolver>=1.3.1 in /usr/local/lib/python3.11/dist-packages (from matplotlib==3.8.1) (1.4.8)\n",
            "Collecting numpy<2,>=1.21 (from matplotlib==3.8.1)\n",
            "  Downloading numpy-1.26.4-cp311-cp311-manylinux_2_17_x86_64.manylinux2014_x86_64.whl.metadata (61 kB)\n",
            "\u001b[2K     \u001b[90m━━━━━━━━━━━━━━━━━━━━━━━━━━━━━━━━━━━━━━━━\u001b[0m \u001b[32m61.0/61.0 kB\u001b[0m \u001b[31m4.4 MB/s\u001b[0m eta \u001b[36m0:00:00\u001b[0m\n",
            "\u001b[?25hRequirement already satisfied: packaging>=20.0 in /usr/local/lib/python3.11/dist-packages (from matplotlib==3.8.1) (24.2)\n",
            "Requirement already satisfied: pillow>=8 in /usr/local/lib/python3.11/dist-packages (from matplotlib==3.8.1) (11.2.1)\n",
            "Requirement already satisfied: pyparsing>=2.3.1 in /usr/local/lib/python3.11/dist-packages (from matplotlib==3.8.1) (3.2.3)\n",
            "Requirement already satisfied: python-dateutil>=2.7 in /usr/local/lib/python3.11/dist-packages (from matplotlib==3.8.1) (2.9.0.post0)\n",
            "Requirement already satisfied: six>=1.5 in /usr/local/lib/python3.11/dist-packages (from python-dateutil>=2.7->matplotlib==3.8.1) (1.17.0)\n",
            "Downloading matplotlib-3.8.1-cp311-cp311-manylinux_2_17_x86_64.manylinux2014_x86_64.whl (11.6 MB)\n",
            "\u001b[2K   \u001b[90m━━━━━━━━━━━━━━━━━━━━━━━━━━━━━━━━━━━━━━━━\u001b[0m \u001b[32m11.6/11.6 MB\u001b[0m \u001b[31m93.8 MB/s\u001b[0m eta \u001b[36m0:00:00\u001b[0m\n",
            "\u001b[?25hDownloading numpy-1.26.4-cp311-cp311-manylinux_2_17_x86_64.manylinux2014_x86_64.whl (18.3 MB)\n",
            "\u001b[2K   \u001b[90m━━━━━━━━━━━━━━━━━━━━━━━━━━━━━━━━━━━━━━━━\u001b[0m \u001b[32m18.3/18.3 MB\u001b[0m \u001b[31m90.7 MB/s\u001b[0m eta \u001b[36m0:00:00\u001b[0m\n",
            "\u001b[?25hInstalling collected packages: numpy, matplotlib\n",
            "  Attempting uninstall: numpy\n",
            "    Found existing installation: numpy 2.0.2\n",
            "    Uninstalling numpy-2.0.2:\n",
            "      Successfully uninstalled numpy-2.0.2\n",
            "  Attempting uninstall: matplotlib\n",
            "    Found existing installation: matplotlib 3.10.0\n",
            "    Uninstalling matplotlib-3.10.0:\n",
            "      Successfully uninstalled matplotlib-3.10.0\n",
            "\u001b[31mERROR: pip's dependency resolver does not currently take into account all the packages that are installed. This behaviour is the source of the following dependency conflicts.\n",
            "thinc 8.3.6 requires numpy<3.0.0,>=2.0.0, but you have numpy 1.26.4 which is incompatible.\u001b[0m\u001b[31m\n",
            "\u001b[0mSuccessfully installed matplotlib-3.8.1 numpy-1.26.4\n"
          ]
        },
        {
          "output_type": "display_data",
          "data": {
            "application/vnd.colab-display-data+json": {
              "pip_warning": {
                "packages": [
                  "matplotlib",
                  "mpl_toolkits",
                  "numpy"
                ]
              },
              "id": "7a432e127c35478d84ce0ffa784936da"
            }
          },
          "metadata": {}
        }
      ]
    },
    {
      "cell_type": "code",
      "source": [
        "import matplotlib.pyplot as plt\n"
      ],
      "metadata": {
        "id": "qURb79_a9xF_"
      },
      "execution_count": null,
      "outputs": []
    },
    {
      "cell_type": "code",
      "source": [
        "plt.show()"
      ],
      "metadata": {
        "id": "l-jvVevR-BsL"
      },
      "execution_count": null,
      "outputs": []
    },
    {
      "cell_type": "markdown",
      "source": [
        "## 1.2 Utilizando módulos/bibliotecas\n",
        "\n",
        "- Documentación de Python (https://docs.python.org/es/3/)"
      ],
      "metadata": {
        "id": "oMxkV9-6GXwH"
      }
    },
    {
      "cell_type": "markdown",
      "source": [
        "#### Ejemplo 1: Vamos a probar la biblioteca Matplotlib para un ejemplo sobre el cálculo de los promedios de notas de los estudiantes de una clase.\n",
        "\n",
        "(https://matplotlib.org/stable/tutorials/introductory/pyplot.html)"
      ],
      "metadata": {
        "id": "W1MHaXB2Q7tT"
      }
    },
    {
      "cell_type": "code",
      "source": [
        "from matplotlib import pyplot as plt"
      ],
      "metadata": {
        "id": "hme-WlDYM-Od"
      },
      "execution_count": null,
      "outputs": []
    },
    {
      "cell_type": "code",
      "source": [
        "estudiantes = [\"Juan\", \"Maria\", \"José\"]\n",
        "notas = [9,8.5,6.5]"
      ],
      "metadata": {
        "id": "mv1h3vJsM-RK"
      },
      "execution_count": null,
      "outputs": []
    },
    {
      "cell_type": "code",
      "source": [
        "plt.bar(x=estudiantes, height=notas)\n",
        "plt.show()"
      ],
      "metadata": {
        "id": "GK77H828M-Zk",
        "outputId": "4461f1aa-b98f-4c96-a657-a5d7835f4ab9",
        "colab": {
          "base_uri": "https://localhost:8080/",
          "height": 430
        }
      },
      "execution_count": null,
      "outputs": [
        {
          "output_type": "display_data",
          "data": {
            "text/plain": [
              "<Figure size 640x480 with 1 Axes>"
            ],
            "image/png": "[encoded data removed]"
          },
          "metadata": {}
        }
      ]
    },
    {
      "cell_type": "markdown",
      "source": [
        "#### Ejemplo 2: Vamos a seleccionar aleatoriamente a un alumno para presentar su trabajo de ciencia de datos usando la biblioteca `random`.\n",
        "\n",
        "(https://docs.python.org/es/3/library/random.html)"
      ],
      "metadata": {
        "id": "5G6u4ZRYRIFZ"
      }
    },
    {
      "cell_type": "code",
      "source": [
        "estudiantes_2 = [\"Juan\", \"Maria\", \"José\",\"Erika\"]"
      ],
      "metadata": {
        "id": "Y4o2AvhWNBdM"
      },
      "execution_count": null,
      "outputs": []
    },
    {
      "cell_type": "code",
      "source": [
        "import random"
      ],
      "metadata": {
        "id": "9fXfsVnANBiG"
      },
      "execution_count": null,
      "outputs": []
    },
    {
      "cell_type": "markdown",
      "source": [
        "<font color=green>**Tip:**</font> Podrás notar a medida que avanzas en los ejercicios la importancia de acudir a la documentación para aprender cómo utilizar un método de algún módulo en el lenguaje Python.\n",
        "\n",
        "El método `help()`, por ejemplo, retorna una descripción sobre una variable, método o clase.\n",
        "\n",
        "https://docs.python.org/es/3/library/functions.html?#help"
      ],
      "metadata": {
        "id": "N-XJrnISGpTN"
      }
    },
    {
      "cell_type": "code",
      "source": [
        "from random import choice"
      ],
      "metadata": {
        "id": "a2zJCXNUND9X"
      },
      "execution_count": null,
      "outputs": []
    },
    {
      "cell_type": "code",
      "source": [
        "estudiante = choice(estudiantes_2)\n",
        "estudiante"
      ],
      "metadata": {
        "id": "2Yvr71PIND_r",
        "outputId": "92aeb245-51b9-4bea-b807-8d89d8bff284",
        "colab": {
          "base_uri": "https://localhost:8080/",
          "height": 36
        }
      },
      "execution_count": null,
      "outputs": [
        {
          "output_type": "execute_result",
          "data": {
            "text/plain": [
              "'Erika'"
            ],
            "application/vnd.google.colaboratory.intrinsic+json": {
              "type": "string"
            }
          },
          "metadata": {},
          "execution_count": 28
        }
      ]
    },
    {
      "cell_type": "code",
      "source": [
        "help(choice)"
      ],
      "metadata": {
        "id": "UFfZz4CxNGjU",
        "outputId": "9c52ebe5-6341-49e0-b1eb-6d0b0058e854",
        "colab": {
          "base_uri": "https://localhost:8080/"
        }
      },
      "execution_count": null,
      "outputs": [
        {
          "output_type": "stream",
          "name": "stdout",
          "text": [
            "Help on method choice in module random:\n",
            "\n",
            "choice(seq) method of random.Random instance\n",
            "    Choose a random element from a non-empty sequence.\n",
            "\n"
          ]
        }
      ]
    },
    {
      "cell_type": "markdown",
      "source": [
        "## <font color=green> 2. FUNCIONES\n",
        "---"
      ],
      "metadata": {
        "id": "2hrSPmlcBwWS"
      }
    },
    {
      "cell_type": "markdown",
      "source": [
        "En Python, las **funciones** son secuencias de instrucciones que ejecutan tareas específicas, permitiendo su reutilización en diferentes partes del código. Estas pueden recibir parámetros de entrada (que también los conocemos como *inputs*) y también retornar resultados."
      ],
      "metadata": {
        "id": "gC4lHsW-DREY"
      }
    },
    {
      "cell_type": "markdown",
      "source": [
        "## 2.1 Built-in function (Función Incorporada)\n",
        "\n",
        "El interpretador de Python contiene una serie de funciones incorporadas que pueden ser invocadas es cualquier momento. Algunas que vamos a utilizar a lo largo de este curso son: `type()`, `print()`, `list()`, `zip()`, `sum()`, `map()`, etc.\n",
        "\n",
        "***Documentación:***\n",
        "https://docs.python.org/es/3/library/functions.html\n"
      ],
      "metadata": {
        "id": "Qr_h1_UNEzHZ"
      }
    },
    {
      "cell_type": "markdown",
      "source": [
        "#### **Situación 1:**\n",
        "\n",
        "La institución educativa para la cual nos encontramos trabajando compartió los datos de las notas de un estudiante para que pudiesemos calcular su promedio con una casilla decimal.\n",
        "\n",
        "Los datos recibidos corresponden a un diccionario cuyas llaves indican el trimestre en cuestión y sus valores corresponden a las notas de cada trimestre del estudiante en una respectiva materia."
      ],
      "metadata": {
        "id": "MMOJIW3TyLIB"
      }
    },
    {
      "cell_type": "code",
      "source": [
        "notas = {'1° Trimestre': 9.5, '2° Trimestre': 8, '3° Trimestre': 7}"
      ],
      "metadata": {
        "id": "WQ-pCgdaMOlc"
      },
      "execution_count": null,
      "outputs": []
    },
    {
      "cell_type": "code",
      "source": [
        "suma = 0\n",
        "\n",
        "for s in notas.values():\n",
        "  suma += s\n",
        "\n",
        "print(suma)"
      ],
      "metadata": {
        "id": "GU-HvC-QMOoS",
        "outputId": "94c20475-085a-409c-c889-4c396157130c",
        "colab": {
          "base_uri": "https://localhost:8080/"
        }
      },
      "execution_count": null,
      "outputs": [
        {
          "output_type": "stream",
          "name": "stdout",
          "text": [
            "24.5\n"
          ]
        }
      ]
    },
    {
      "cell_type": "code",
      "source": [
        "promedio = sum(notas.values()) / len(notas)\n",
        "\n",
        "promedio"
      ],
      "metadata": {
        "id": "qKEyjY2bMOqj",
        "outputId": "66708c79-d2a9-4ecf-d84e-39996c8b2631",
        "colab": {
          "base_uri": "https://localhost:8080/"
        }
      },
      "execution_count": null,
      "outputs": [
        {
          "output_type": "execute_result",
          "data": {
            "text/plain": [
              "8.166666666666666"
            ]
          },
          "metadata": {},
          "execution_count": 36
        }
      ]
    },
    {
      "cell_type": "markdown",
      "source": [
        "*Redondear el promedio usando round():*\n",
        "\n",
        "https://docs.python.org/es/3/library/functions.html#round"
      ],
      "metadata": {
        "id": "JD2z3LW8312E"
      }
    },
    {
      "cell_type": "code",
      "source": [
        "promedio = round(promedio, 1)\n",
        "\n",
        "promedio"
      ],
      "metadata": {
        "id": "c7Cn5XFfMP5E",
        "outputId": "80a5f682-b2d7-40b6-ea49-6e19aed9aae1",
        "colab": {
          "base_uri": "https://localhost:8080/"
        }
      },
      "execution_count": null,
      "outputs": [
        {
          "output_type": "execute_result",
          "data": {
            "text/plain": [
              "8.2"
            ]
          },
          "metadata": {},
          "execution_count": 37
        }
      ]
    },
    {
      "cell_type": "code",
      "source": [],
      "metadata": {
        "id": "eVNPFr0pMRWl"
      },
      "execution_count": null,
      "outputs": []
    },
    {
      "cell_type": "markdown",
      "source": [
        "## 2.2 Creando funciones"
      ],
      "metadata": {
        "id": "NCUSezOJIdfy"
      }
    },
    {
      "cell_type": "markdown",
      "source": [
        "Tras explorar las funciones incorporadas y aprender cómo utilizar algunas de ellas, es posible que tengas la necesidad de resolver un problema específico y estas no sean suficientes.\n",
        "\n",
        "Por este motivo, necesitaremos crear nuestras propias funciones, y aún más, si necesitamos aplicarlas en varias partes de nuestros códigos."
      ],
      "metadata": {
        "id": "QrTAXwghsg6s"
      }
    },
    {
      "cell_type": "markdown",
      "source": [
        "### Funciones sin parámetros\n",
        "\n",
        "#### Formato estándar:\n",
        "\n",
        "```python\n",
        "def <nombre>():\n",
        "  <instrucciones>\n",
        "```"
      ],
      "metadata": {
        "id": "zxyXiX462A_X"
      }
    },
    {
      "cell_type": "code",
      "source": [
        "def promedio():\n",
        "  calculo = (10+9+7)/3\n",
        "  print(calculo)"
      ],
      "metadata": {
        "id": "WgWoULpnMSrT"
      },
      "execution_count": null,
      "outputs": []
    },
    {
      "cell_type": "code",
      "source": [
        "promedio()"
      ],
      "metadata": {
        "id": "VKfg0zkDMStp",
        "outputId": "49b1b451-b00c-4d8f-8f4d-a34e0a08bc4a",
        "colab": {
          "base_uri": "https://localhost:8080/"
        }
      },
      "execution_count": null,
      "outputs": [
        {
          "output_type": "stream",
          "name": "stdout",
          "text": [
            "8.666666666666666\n"
          ]
        }
      ]
    },
    {
      "cell_type": "code",
      "source": [],
      "metadata": {
        "id": "04YIHBu-MTNB"
      },
      "execution_count": null,
      "outputs": []
    },
    {
      "cell_type": "markdown",
      "source": [
        "### Funciones con parámetros\n",
        "\n",
        "#### Formato estándar:\n",
        "\n",
        "```python\n",
        "def <nombre>(<param_1>, <param_2>, ..., <param_n>):\n",
        "  <instrucciones>\n",
        "```"
      ],
      "metadata": {
        "id": "o9AR_DNDFKSD"
      }
    },
    {
      "cell_type": "code",
      "source": [
        "def promedio(nota_1,nota_2,nota_3):\n",
        "  calculo = (nota_1+nota_2+nota_3)/3\n",
        "  print(calculo)"
      ],
      "metadata": {
        "id": "1QHJXCYsMUx3"
      },
      "execution_count": null,
      "outputs": []
    },
    {
      "cell_type": "code",
      "source": [
        "promedio(10,9,7)"
      ],
      "metadata": {
        "id": "txkkIwheMU0n",
        "outputId": "291be9c3-7c87-4b71-ff76-a84ef988092c",
        "colab": {
          "base_uri": "https://localhost:8080/"
        }
      },
      "execution_count": null,
      "outputs": [
        {
          "output_type": "stream",
          "name": "stdout",
          "text": [
            "8.666666666666666\n"
          ]
        }
      ]
    },
    {
      "cell_type": "code",
      "source": [
        "promedio(nota_1=10,nota_2=9,nota_3=7)"
      ],
      "metadata": {
        "id": "Pq88ApQEMWK9",
        "outputId": "af97ef68-360c-4e77-edde-d63a0fd26e5c",
        "colab": {
          "base_uri": "https://localhost:8080/"
        }
      },
      "execution_count": null,
      "outputs": [
        {
          "output_type": "stream",
          "name": "stdout",
          "text": [
            "8.666666666666666\n"
          ]
        }
      ]
    },
    {
      "cell_type": "markdown",
      "source": [
        "#### **Situación 2:**\n",
        "\n",
        "Recibimos una solicitud para crear una función que calcule el promedio de notas de un estudiante a partir de una lista; que permita alterar la cantidad de notas, y que no implique tener que modificar la función.\n",
        "\n",
        "Los datos recibidos, en esta ocasión, corresponden a una lista que contiene las notas de un mismo estudiante en una determinada materia.\n",
        "\n",
        "notas = 8.5, 9.0, 6.0, 10.0\n",
        "\n",
        "**¿Vamos a resolver este desafío?**\n",
        "\n",
        "Para facilitar nuestra comprensión del proceso, vamos a aplicar las notas de un único estudiante; sin embargo, puedes probar otros casos para practicar."
      ],
      "metadata": {
        "id": "-Umx7n134suz"
      }
    },
    {
      "cell_type": "code",
      "source": [
        "notas = [8.5, 9.0, 6.0, 10.0]"
      ],
      "metadata": {
        "id": "U4MlTO9ucAKc"
      },
      "execution_count": null,
      "outputs": []
    },
    {
      "cell_type": "code",
      "source": [
        "def promedio(lista):\n",
        "  calculo = sum(lista) / len(lista)\n",
        "  print(calculo)"
      ],
      "metadata": {
        "id": "ZrqyDBNFMYOK"
      },
      "execution_count": null,
      "outputs": []
    },
    {
      "cell_type": "code",
      "source": [
        "promedio(notas)"
      ],
      "metadata": {
        "id": "wEkixagwMY2E",
        "outputId": "5f137213-4f1a-4102-f7bf-9a41ba412b8f",
        "colab": {
          "base_uri": "https://localhost:8080/"
        }
      },
      "execution_count": null,
      "outputs": [
        {
          "output_type": "stream",
          "name": "stdout",
          "text": [
            "8.375\n"
          ]
        }
      ]
    },
    {
      "cell_type": "code",
      "source": [
        "media = promedio(notas)"
      ],
      "metadata": {
        "id": "60Gvxd9tMa5d",
        "outputId": "d2d60596-83f2-4d8b-918a-d37da226fa4e",
        "colab": {
          "base_uri": "https://localhost:8080/"
        }
      },
      "execution_count": null,
      "outputs": [
        {
          "output_type": "stream",
          "name": "stdout",
          "text": [
            "8.375\n"
          ]
        }
      ]
    },
    {
      "cell_type": "code",
      "source": [
        "type(media)"
      ],
      "metadata": {
        "id": "q4eaMmGpzqhE",
        "outputId": "4a6d1565-c00d-4bfb-c75c-0107f46af2c7",
        "colab": {
          "base_uri": "https://localhost:8080/"
        }
      },
      "execution_count": null,
      "outputs": [
        {
          "output_type": "execute_result",
          "data": {
            "text/plain": [
              "NoneType"
            ]
          },
          "metadata": {},
          "execution_count": 50
        }
      ]
    },
    {
      "cell_type": "markdown",
      "source": [
        "<font color=red>**Atención!**</font>\n",
        "Cuando utilizamos funciones, necesitamos prestar atención a una propiedad llamada **Alcance de una función**. Esta propiedad determina dónde una variable puede ser utilizada dentro del código. Por ejemplo, una variable creada dentro de una función existirá únicamente dentro de esta función. O sea, cuando finaliza la ejecución de una función, la variable no estará disponible para el usuario en el resto del código."
      ],
      "metadata": {
        "id": "skMq7d0_xHND"
      }
    },
    {
      "cell_type": "code",
      "source": [
        "calculo"
      ],
      "metadata": {
        "id": "yTOqJSgsMbdJ",
        "outputId": "3b7fe15e-402d-475b-f8e5-af540e78f400",
        "colab": {
          "base_uri": "https://localhost:8080/",
          "height": 148
        }
      },
      "execution_count": null,
      "outputs": [
        {
          "output_type": "error",
          "ename": "NameError",
          "evalue": "name 'calculo' is not defined",
          "traceback": [
            "\u001b[0;31m---------------------------------------------------------------------------\u001b[0m",
            "\u001b[0;31mNameError\u001b[0m                                 Traceback (most recent call last)",
            "\u001b[0;32m/tmp/ipython-input-51-1498647408.py\u001b[0m in \u001b[0;36m<cell line: 0>\u001b[0;34m()\u001b[0m\n\u001b[0;32m----> 1\u001b[0;31m \u001b[0mcalculo\u001b[0m\u001b[0;34m\u001b[0m\u001b[0;34m\u001b[0m\u001b[0m\n\u001b[0m",
            "\u001b[0;31mNameError\u001b[0m: name 'calculo' is not defined"
          ]
        }
      ]
    },
    {
      "cell_type": "markdown",
      "source": [
        "## 2.3 Funciones que retornan valores\n",
        "\n",
        "#### Formato estándar:\n",
        "\n",
        "```python\n",
        "def <nombre>(<param_1>, <param_2>, ..., <param_n>):\n",
        "  <instrucciones>\n",
        "  return resultado\n",
        "```"
      ],
      "metadata": {
        "id": "-oDFGKcA52kG"
      }
    },
    {
      "cell_type": "markdown",
      "source": [
        "Retomando la actividad anterior, podemos retornar y guardar el valor del promedio de la siguiente forma:"
      ],
      "metadata": {
        "id": "DxvT_uItbQ-q"
      }
    },
    {
      "cell_type": "code",
      "source": [
        "# Notas del estudiante\n",
        "notas = [8.5, 9.0, 6.0, 10.0]"
      ],
      "metadata": {
        "id": "GlWdnX7Ubgl3"
      },
      "execution_count": null,
      "outputs": []
    },
    {
      "cell_type": "code",
      "source": [
        "def promedio(lista):\n",
        "  resultado =sum(lista) / len(lista)\n",
        "  return resultado"
      ],
      "metadata": {
        "id": "JdMFsT9GMgI6"
      },
      "execution_count": null,
      "outputs": []
    },
    {
      "cell_type": "code",
      "source": [
        "promedio(notas)"
      ],
      "metadata": {
        "id": "p7AwNnTCMgLf",
        "outputId": "d08ad78c-1278-40c2-ab57-f135791c0fce",
        "colab": {
          "base_uri": "https://localhost:8080/"
        }
      },
      "execution_count": null,
      "outputs": [
        {
          "output_type": "execute_result",
          "data": {
            "text/plain": [
              "8.375"
            ]
          },
          "metadata": {},
          "execution_count": 5
        }
      ]
    },
    {
      "cell_type": "code",
      "source": [
        "resultado = promedio(notas)"
      ],
      "metadata": {
        "id": "35zC247QMgRP"
      },
      "execution_count": null,
      "outputs": []
    },
    {
      "cell_type": "code",
      "source": [
        "type(resultado)"
      ],
      "metadata": {
        "id": "TjmB8IWpMgV4",
        "outputId": "338a4beb-db09-4719-970f-3e502d37c6dd",
        "colab": {
          "base_uri": "https://localhost:8080/"
        }
      },
      "execution_count": null,
      "outputs": [
        {
          "output_type": "execute_result",
          "data": {
            "text/plain": [
              "float"
            ]
          },
          "metadata": {},
          "execution_count": 12
        }
      ]
    },
    {
      "cell_type": "code",
      "source": [
        "resultado"
      ],
      "metadata": {
        "id": "ylOUpCFsLSbb",
        "outputId": "81045d0e-7f42-4a76-f0c1-ffdbedb2bfb8",
        "colab": {
          "base_uri": "https://localhost:8080/"
        }
      },
      "execution_count": null,
      "outputs": [
        {
          "output_type": "execute_result",
          "data": {
            "text/plain": [
              "8.375"
            ]
          },
          "metadata": {},
          "execution_count": 13
        }
      ]
    },
    {
      "cell_type": "markdown",
      "source": [
        "#### **Situación 3:**\n",
        "\n",
        "Recibimos una nueva solicitud. Debemos calcular el promedio de un estudiante a partir de una lista y retornar tanto el promedio como la situación del estudiante (\"Aprobado(a)\" si la nota es mayor o igual a 7.0, en caso contrario, será \"Reprobado(a)\").\n",
        "\n",
        "Además de ello, necesitamos exhibir un pequeño texto para indicar el promedio del estudiante y cuál es su situación. Los datos recibidos corresponden a una lista que contiene apenas las notas de un estudiante en una materia determinada.\n",
        "\n",
        "**¿Vamos a resolver este desafío?**\n",
        "\n",
        "Para facilitar nuestra comprensión del proceso, vamos a aplicar las notas de un único estudiante; sin embargo, puedes probar otros casos para practicar."
      ],
      "metadata": {
        "id": "_awyOKOH8OOi"
      }
    },
    {
      "cell_type": "code",
      "source": [
        "# Notas del estudiante\n",
        "notas = [8.5, 9.0, 6.0, 10.0]"
      ],
      "metadata": {
        "id": "3saGo2kDf0BY"
      },
      "execution_count": null,
      "outputs": []
    },
    {
      "cell_type": "code",
      "source": [
        "def boletin(lista):\n",
        "  resultado = sum(lista)/len(lista)\n",
        "  if resultado >= 7:\n",
        "    situacion = \"Aprobado(a)\"\n",
        "  else:\n",
        "    situacion = \"Reprobado(a)\"\n",
        "  return (resultado,situacion)"
      ],
      "metadata": {
        "id": "unNLrdFjMjbv"
      },
      "execution_count": null,
      "outputs": []
    },
    {
      "cell_type": "code",
      "source": [
        "boletin(notas)"
      ],
      "metadata": {
        "id": "Rmvg4hNeMjeD",
        "outputId": "ad315f56-4831-41da-9240-dd8469792beb",
        "colab": {
          "base_uri": "https://localhost:8080/"
        }
      },
      "execution_count": null,
      "outputs": [
        {
          "output_type": "execute_result",
          "data": {
            "text/plain": [
              "(8.375, 'Aprobado(a)')"
            ]
          },
          "metadata": {},
          "execution_count": 8
        }
      ]
    },
    {
      "cell_type": "code",
      "source": [
        "resultado, situacion = boletin(notas)"
      ],
      "metadata": {
        "id": "jCYuFpmeMji6"
      },
      "execution_count": null,
      "outputs": []
    },
    {
      "cell_type": "code",
      "source": [
        "print(f\"El estudiante obtubo un puntaje de: {resultado} y su situación es: {situacion}\")"
      ],
      "metadata": {
        "id": "hSht0Z2cMjlT",
        "outputId": "fcd05be3-496a-4930-a1c0-b3f1fadf236f",
        "colab": {
          "base_uri": "https://localhost:8080/"
        }
      },
      "execution_count": null,
      "outputs": [
        {
          "output_type": "stream",
          "name": "stdout",
          "text": [
            "El estudiante obtubo un puntaje de: 8.375 y su situación es: Aprobado(a)\n"
          ]
        }
      ]
    },
    {
      "cell_type": "code",
      "source": [
        "def boletin(lista):\n",
        "  resultado = sum(lista)/len(lista)\n",
        "  if resultado >= 7:\n",
        "    situacion = \"Aprobado(a)\"\n",
        "  else:\n",
        "    situacion = \"Reprobado(a)\"\n",
        "  return f\"El estudiante obtubo un puntaje de: {resultado} y su situación es: {situacion}.\""
      ],
      "metadata": {
        "id": "-Ayd5sF6K_98"
      },
      "execution_count": null,
      "outputs": []
    },
    {
      "cell_type": "code",
      "source": [
        "notas_2 = [7.5, 4.0, 3.0, 10.0]"
      ],
      "metadata": {
        "id": "iiuJIcSpLMrI"
      },
      "execution_count": null,
      "outputs": []
    },
    {
      "cell_type": "code",
      "source": [
        "boletin(notas_2)"
      ],
      "metadata": {
        "id": "tLdjCulMMjnD",
        "outputId": "c29de4f5-064f-4892-9397-7ccda67ed315",
        "colab": {
          "base_uri": "https://localhost:8080/",
          "height": 36
        }
      },
      "execution_count": null,
      "outputs": [
        {
          "output_type": "execute_result",
          "data": {
            "text/plain": [
              "'El estudiante obtubo un puntaje de: 6.125 y su situación es: Reprobado(a).'"
            ],
            "application/vnd.google.colaboratory.intrinsic+json": {
              "type": "string"
            }
          },
          "metadata": {},
          "execution_count": 15
        }
      ]
    },
    {
      "cell_type": "code",
      "source": [
        "y = 9\n",
        "x = 7\n",
        "\n",
        "def suma():\n",
        "  print(x + y)\n"
      ],
      "metadata": {
        "id": "dMB11rrlL5YC"
      },
      "execution_count": null,
      "outputs": []
    },
    {
      "cell_type": "code",
      "source": [
        "suma()"
      ],
      "metadata": {
        "id": "MxpeZ6XiL7Ky",
        "outputId": "903c8e52-cf64-4816-a5f2-f4e48e7e5bdb",
        "colab": {
          "base_uri": "https://localhost:8080/"
        }
      },
      "execution_count": null,
      "outputs": [
        {
          "output_type": "stream",
          "name": "stdout",
          "text": [
            "16\n"
          ]
        }
      ]
    },
    {
      "cell_type": "code",
      "source": [
        "print(x + y)"
      ],
      "metadata": {
        "id": "vOKqPP_EMC9J",
        "outputId": "a62ef2b8-7986-4d44-8d97-caff4e21ef29",
        "colab": {
          "base_uri": "https://localhost:8080/"
        }
      },
      "execution_count": null,
      "outputs": [
        {
          "output_type": "stream",
          "name": "stdout",
          "text": [
            "16\n"
          ]
        }
      ]
    },
    {
      "cell_type": "markdown",
      "source": [
        "## 2.4 Funciones lambda\n",
        "\n",
        "También se conocen como funciones anónimas, son funciones que no necesitan ser definidas, o sea, no poseen un nombre, y describen en una única fila los comandos que deseamos aplicar.\n",
        "\n",
        "https://docs.python.org/es/3/reference/expressions.html?#lambda\n",
        "\n",
        "#### Formato estándar:\n",
        "\n",
        "```python\n",
        "lambda <variable>: <expresion>\n",
        "```"
      ],
      "metadata": {
        "id": "hwYYRpkZMft5"
      }
    },
    {
      "cell_type": "code",
      "source": [
        "nota_ = float(input(\"Digite su nota: \"))\n",
        "\n",
        "def cualitativa(nota):\n",
        " return nota + 0.5\n",
        "\n",
        "cualitativa(nota_)"
      ],
      "metadata": {
        "id": "wcNxDJoPMmTJ",
        "outputId": "e3cb9646-3996-4887-d63b-9998c53caa86",
        "colab": {
          "base_uri": "https://localhost:8080/"
        }
      },
      "execution_count": null,
      "outputs": [
        {
          "name": "stdout",
          "output_type": "stream",
          "text": [
            "Digite su nota: 6\n"
          ]
        },
        {
          "output_type": "execute_result",
          "data": {
            "text/plain": [
              "6.5"
            ]
          },
          "metadata": {},
          "execution_count": 3
        }
      ]
    },
    {
      "cell_type": "code",
      "source": [
        "nota_ = float(input(\"Digite su nota: \"))\n",
        "\n",
        "cualitativa = lambda x: x +0.5\n",
        "\n",
        "\n",
        "cualitativa(nota_)"
      ],
      "metadata": {
        "id": "S-baAoaQMmVy",
        "outputId": "3160de45-774a-43b9-8b06-79b974118a77",
        "colab": {
          "base_uri": "https://localhost:8080/"
        }
      },
      "execution_count": null,
      "outputs": [
        {
          "name": "stdout",
          "output_type": "stream",
          "text": [
            "Digite su nota: 6\n"
          ]
        },
        {
          "output_type": "execute_result",
          "data": {
            "text/plain": [
              "6.5"
            ]
          },
          "metadata": {},
          "execution_count": 5
        }
      ]
    },
    {
      "cell_type": "markdown",
      "source": [
        "#### **Situación 4:**\n",
        "\n",
        "En esta nueva solicitud, necesitamos crear una calculadora simple para obtener el promedio ponderado de notas de una materia determinada. Vamos a pedir que el usuario introduzca 3 notas (N1, N2, N3) del estudiante y devuelva el promedio ponderado de este estudiante. Los pesos de las notas son de, respectivamente 3, 2 y 5.\n",
        "\n",
        "Necesitamos exhibir un pequeño texto para poder indicar el promedio del estudiante.\n",
        "**¿Vamos a resolver este desafío?**\n"
      ],
      "metadata": {
        "id": "AuRWyNXYgD_b"
      }
    },
    {
      "cell_type": "markdown",
      "source": [
        "**Resolviendo nuestro problema:**"
      ],
      "metadata": {
        "id": "vdKk3DRBmtUE"
      }
    },
    {
      "cell_type": "code",
      "source": [
        "n1 = float(input(\"Digite la primera nota: \"))\n",
        "n2 = float(input(\"Digite la segunda nota: \"))\n",
        "n3 = float(input(\"Digite la tercera nota: \"))\n",
        "\n",
        "ponderado = lambda x,y,z: (x*3 + y*2 + z*5)/10\n",
        "\n",
        "nota_final = ponderado(n1,n2,n3)"
      ],
      "metadata": {
        "id": "6YxEn9aiMnYJ",
        "outputId": "6818a4f2-0bb4-4379-a6d8-0f98d95e7f8e",
        "colab": {
          "base_uri": "https://localhost:8080/"
        }
      },
      "execution_count": null,
      "outputs": [
        {
          "name": "stdout",
          "output_type": "stream",
          "text": [
            "Digite la primera nota: 7\n",
            "Digite la segunda nota: 8\n",
            "Digite la tercera nota: 9.6\n"
          ]
        }
      ]
    },
    {
      "cell_type": "code",
      "source": [
        "print(f\"El promedio ponderado del estudiante es: {nota_final}\")"
      ],
      "metadata": {
        "id": "Ptn9gQaPMnaz",
        "outputId": "b07ad2a3-624a-4a09-d639-58c6a24e24b1",
        "colab": {
          "base_uri": "https://localhost:8080/"
        }
      },
      "execution_count": null,
      "outputs": [
        {
          "output_type": "stream",
          "name": "stdout",
          "text": [
            "El promedio ponderado del estudiante es: 8.5\n"
          ]
        }
      ]
    },
    {
      "cell_type": "markdown",
      "source": [
        "#### **Situación 5:**\n",
        "\n",
        "Ahora, debemos crear una pequeña función que permita dar una nota cualitativa (puntaje extra) a las notas del trimestre de los estudiantes del grupo que ganó el concurso de programación realizado en la institución. Cada estudiante recibirá el cualitativo de 0.5 añadido al promedio.\n",
        "\n",
        "Los datos recibidos corresponden a una lista que contiene las notas de algunos estudiantes y una variable con el cualitativo recibido.\n",
        "\n",
        "**¿Vamos a resolver este desafío?**\n",
        "\n",
        "Para facilitar nuestra comprensión del proceso, vamos a aplicar las notas de 5 estudiantes; sin embargo, puedes probar otros casos para practicar."
      ],
      "metadata": {
        "id": "1qk0gLdfFcbf"
      }
    },
    {
      "cell_type": "code",
      "source": [
        "# Notas del estudiante\n",
        "notas = [6.0, 7.0, 9.0, 5.5, 8.0]\n",
        "cualitativo = 0.5"
      ],
      "metadata": {
        "id": "RdoaWhuVI_OB"
      },
      "execution_count": null,
      "outputs": []
    },
    {
      "cell_type": "code",
      "source": [
        "notas_actualizadas =lambda x: 0.5"
      ],
      "metadata": {
        "id": "PzDfbv-kMq2t"
      },
      "execution_count": null,
      "outputs": []
    },
    {
      "cell_type": "code",
      "source": [
        "notas_actualizadas(notas)"
      ],
      "metadata": {
        "id": "3YDQ39wFMq5u",
        "outputId": "5b65b3fb-2911-4998-9f0e-7a099afa61c7",
        "colab": {
          "base_uri": "https://localhost:8080/"
        }
      },
      "execution_count": null,
      "outputs": [
        {
          "output_type": "execute_result",
          "data": {
            "text/plain": [
              "0.5"
            ]
          },
          "metadata": {},
          "execution_count": 17
        }
      ]
    },
    {
      "cell_type": "markdown",
      "source": [
        "### Mapeando valores\n",
        "\n",
        "#### Formato estándar:\n",
        "\n",
        "```python\n",
        "map(<lambda function>, <iterador>)\n",
        "```"
      ],
      "metadata": {
        "id": "SOK4BC4mmKbG"
      }
    },
    {
      "cell_type": "code",
      "source": [
        "notas_actualizadas = map(lambda x: x + 0.5, notas)"
      ],
      "metadata": {
        "id": "ZbfpvfWJMsjv"
      },
      "execution_count": null,
      "outputs": []
    },
    {
      "cell_type": "code",
      "source": [
        "notas_actualizadas"
      ],
      "metadata": {
        "id": "TA-zGLJfMseA",
        "outputId": "41ebda3c-c896-4743-f95c-7e8084600f07",
        "colab": {
          "base_uri": "https://localhost:8080/"
        }
      },
      "execution_count": null,
      "outputs": [
        {
          "output_type": "execute_result",
          "data": {
            "text/plain": [
              "<map at 0x7c352fb40790>"
            ]
          },
          "metadata": {},
          "execution_count": 19
        }
      ]
    },
    {
      "cell_type": "code",
      "source": [
        "notas_actualizadas = list(notas_actualizadas)\n",
        "print (notas_actualizadas)\n",
        "print(notas)"
      ],
      "metadata": {
        "id": "PrAppvR6MuKm",
        "outputId": "c6ebfa27-3694-4d4d-fbf9-05085af0d542",
        "colab": {
          "base_uri": "https://localhost:8080/"
        }
      },
      "execution_count": null,
      "outputs": [
        {
          "output_type": "stream",
          "name": "stdout",
          "text": [
            "[6.5, 7.5, 9.5, 6.0, 8.5]\n",
            "[6.0, 7.0, 9.0, 5.5, 8.0]\n"
          ]
        }
      ]
    },
    {
      "cell_type": "code",
      "source": [
        "numeros = [1, 2, 3, 4, 5, 6, 7, 8, 9, 10]\n",
        "cuadrados = list(map(lambda x: x**2, numeros))\n",
        "print(cuadrados)\n"
      ],
      "metadata": {
        "id": "f3msyg264PYN",
        "outputId": "244f68fa-778c-4ad0-fd33-8ed201538d86",
        "colab": {
          "base_uri": "https://localhost:8080/"
        }
      },
      "execution_count": null,
      "outputs": [
        {
          "output_type": "stream",
          "name": "stdout",
          "text": [
            "[1, 4, 9, 16, 25, 36, 49, 64, 81, 100]\n"
          ]
        }
      ]
    },
    {
      "cell_type": "markdown",
      "source": [
        "## <font color=green> 3. ESTRUCTURAS DE DATOS COMPUESTAS\n",
        "---"
      ],
      "metadata": {
        "id": "DoB6wf2JCYf7"
      }
    },
    {
      "cell_type": "markdown",
      "source": [
        "## 3.1 Estructuras anidadas\n",
        "\n",
        "Previamente, aprendimos a manipular las listas, tuplas y diccionarios para trabajar con una secuencia o colección de valores sean numéricos, categóricos, etc. En esta aula, vamos a profundizar en otra situación común para la persona científica de datos que es trabajar con estos tipos de estructuras anidadas, o sea, cuando, por ejemplo, tenemos listas dentro de una lista."
      ],
      "metadata": {
        "id": "3or6MbnZDW_b"
      }
    },
    {
      "cell_type": "markdown",
      "source": [
        "### **Lista de listas**\n",
        "\n",
        "#### Formato estándar:\n",
        "\n",
        "```python\n",
        "[[a1, a2,...,an], [b1, b2,...,bn], ..., [n1, n2,...,nn]]\n",
        "```"
      ],
      "metadata": {
        "id": "fddus1G9HqB3"
      }
    },
    {
      "cell_type": "markdown",
      "source": [
        "#### **Situación 6:**\n",
        "\n",
        "Recibimos la demanda de transformar una lista con el nombre y las notas de tres trimestres de algunos estudiantes en una lista simple, con los nombres separados de las notas, y una lista de listas con las tres notas de cada estudiante separadas entre sí. Los datos recibidos corresponden a una lista con los nombres y las respectivas notas de cada estudiante.\n",
        "\n",
        "**¿Vamos a resolver este desafío?**\n",
        "\n",
        "Para facilitar nuestra comprensión del proceso, vamos a trabajar con un grupo de 5 estudiantes; sin embargo, puedes probar otros casos para practicar.\n"
      ],
      "metadata": {
        "id": "32K5LA11tFpz"
      }
    },
    {
      "cell_type": "code",
      "source": [
        "notas_grupo = ['Juan', 8.0, 9.0, 10.0, 'Maria', 9.0, 7.0, 6.0, 'José', 3.4, 7.0, 7.0, 'Claudia', 5.5, 6.6, 8.0, 'Ana', 6.0, 10.0, 9.5]"
      ],
      "metadata": {
        "id": "jlEP-c2YthpB"
      },
      "execution_count": null,
      "outputs": []
    },
    {
      "cell_type": "code",
      "source": [
        "nombres = []\n",
        "notas = []\n",
        "\n",
        "for i in range(len(notas_grupo)):\n",
        "  if i  % 4 == 0:\n",
        "    nombres.append(notas_grupo[i])\n",
        "  else:\n",
        "    notas.append(notas_grupo[i])"
      ],
      "metadata": {
        "id": "azR_cX-ILghB"
      },
      "execution_count": null,
      "outputs": []
    },
    {
      "cell_type": "code",
      "source": [
        "nombres"
      ],
      "metadata": {
        "id": "GhfsJvs9LgjY",
        "outputId": "3f5adcde-203e-4f4d-e3c3-56a300d8d86b",
        "colab": {
          "base_uri": "https://localhost:8080/"
        }
      },
      "execution_count": null,
      "outputs": [
        {
          "output_type": "execute_result",
          "data": {
            "text/plain": [
              "['Juan', 'Maria', 'José', 'Claudia', 'Ana']"
            ]
          },
          "metadata": {},
          "execution_count": 28
        }
      ]
    },
    {
      "cell_type": "code",
      "source": [
        "notas"
      ],
      "metadata": {
        "id": "tB8FA20gLiog",
        "outputId": "f8150c61-212f-43e6-dce2-9da71a0169d8",
        "colab": {
          "base_uri": "https://localhost:8080/"
        }
      },
      "execution_count": null,
      "outputs": [
        {
          "output_type": "execute_result",
          "data": {
            "text/plain": [
              "[8.0, 9.0, 10.0, 9.0, 7.0, 6.0, 3.4, 7.0, 7.0, 5.5, 6.6, 8.0, 6.0, 10.0, 9.5]"
            ]
          },
          "metadata": {},
          "execution_count": 31
        }
      ]
    },
    {
      "cell_type": "code",
      "source": [
        "notas_separadas = []\n",
        "\n",
        "for i in range(0,len(notas),3):\n",
        "  notas_separadas.append([notas[i],notas[i+1],notas[i+2]])"
      ],
      "metadata": {
        "id": "A8vbAzrF6FhI"
      },
      "execution_count": null,
      "outputs": []
    },
    {
      "cell_type": "code",
      "source": [
        "notas_separadas"
      ],
      "metadata": {
        "id": "JjjrQ4Xw6FkA",
        "outputId": "89a955da-0fc5-40ca-df62-7ed881494473",
        "colab": {
          "base_uri": "https://localhost:8080/"
        }
      },
      "execution_count": null,
      "outputs": [
        {
          "output_type": "execute_result",
          "data": {
            "text/plain": [
              "[[8.0, 9.0, 10.0],\n",
              " [9.0, 7.0, 6.0],\n",
              " [3.4, 7.0, 7.0],\n",
              " [5.5, 6.6, 8.0],\n",
              " [6.0, 10.0, 9.5]]"
            ]
          },
          "metadata": {},
          "execution_count": 32
        }
      ]
    },
    {
      "cell_type": "code",
      "source": [],
      "metadata": {
        "id": "W_yzMd-J6FoI"
      },
      "execution_count": null,
      "outputs": []
    },
    {
      "cell_type": "code",
      "source": [],
      "metadata": {
        "id": "SCi8Jl82Liqo"
      },
      "execution_count": null,
      "outputs": []
    },
    {
      "cell_type": "markdown",
      "source": [
        "### **Lista de tuplas**\n",
        "\n",
        "#### Formato estándar:\n",
        "\n",
        "```python\n",
        "[(a1, a2,...,an), (b1, b2,...,bn), ..., (n1, n2,...,nn)]\n",
        "```"
      ],
      "metadata": {
        "id": "SW0sVg68sK_z"
      }
    },
    {
      "cell_type": "markdown",
      "source": [
        "#### **Situación 7:**\n",
        "\n",
        "Necesitamos generar una lista de tuplas con los nombres de los estudiantes y el código ID de cada uno de ellos para la plataforma de análisis de datos. La creación del código consiste en concatenar la primera letra del nombre del estudiante con un número aleatorio de 0 a 999. Los datos recibidos corresponden a una lista con los nombres de cada estudiante.\n",
        "\n",
        "**¿Vamos a resolver este desafío?**\n",
        "\n",
        "Para facilitar nuestra comprensión del proceso, vamos a trabajar con un grupo de 5 estudiantes; sin embargo, puedes probar otros casos para practicar.\n"
      ],
      "metadata": {
        "id": "OId6jAZz5x2m"
      }
    },
    {
      "cell_type": "code",
      "source": [
        "nombres"
      ],
      "metadata": {
        "id": "YA1zJ0G6LkTy",
        "outputId": "e5dc347d-d14f-4b27-f5bc-c50816bc7916",
        "colab": {
          "base_uri": "https://localhost:8080/"
        }
      },
      "execution_count": null,
      "outputs": [
        {
          "output_type": "execute_result",
          "data": {
            "text/plain": [
              "['Juan', 'Maria', 'José', 'Claudia', 'Ana']"
            ]
          },
          "metadata": {},
          "execution_count": 33
        }
      ]
    },
    {
      "cell_type": "code",
      "source": [
        "from random import randint\n",
        "\n",
        "def genera_numero():\n",
        " return randint(0,999)"
      ],
      "metadata": {
        "id": "yBzPwhGiLkWa"
      },
      "execution_count": null,
      "outputs": []
    },
    {
      "cell_type": "code",
      "source": [
        "genera_numero()"
      ],
      "metadata": {
        "id": "9qgGAjSyLndK",
        "outputId": "40c9b844-2bfc-474d-8b54-2d815103a953",
        "colab": {
          "base_uri": "https://localhost:8080/"
        }
      },
      "execution_count": null,
      "outputs": [
        {
          "output_type": "execute_result",
          "data": {
            "text/plain": [
              "513"
            ]
          },
          "metadata": {},
          "execution_count": 45
        }
      ]
    },
    {
      "cell_type": "code",
      "source": [
        "nombres[0]"
      ],
      "metadata": {
        "id": "gYRWxcjV9YFX",
        "outputId": "2384b156-4534-4472-be64-a1b5fa9d93df",
        "colab": {
          "base_uri": "https://localhost:8080/",
          "height": 36
        }
      },
      "execution_count": null,
      "outputs": [
        {
          "output_type": "execute_result",
          "data": {
            "text/plain": [
              "'Juan'"
            ],
            "application/vnd.google.colaboratory.intrinsic+json": {
              "type": "string"
            }
          },
          "metadata": {},
          "execution_count": 46
        }
      ]
    },
    {
      "cell_type": "code",
      "source": [
        "codigo_estudiantes = []\n",
        "\n",
        "for i in range(len(nombres)):\n",
        "  codigo_estudiantes.append((nombres[i],nombres[i][0]+str(genera_numero())))\n",
        "\n"
      ],
      "metadata": {
        "id": "jVRxtOyeLngM"
      },
      "execution_count": null,
      "outputs": []
    },
    {
      "cell_type": "code",
      "source": [
        "codigo_estudiantes"
      ],
      "metadata": {
        "id": "mJCa8AlA9_Ts",
        "outputId": "5277deae-2777-41ef-87a9-7e97b413a13e",
        "colab": {
          "base_uri": "https://localhost:8080/"
        }
      },
      "execution_count": null,
      "outputs": [
        {
          "output_type": "execute_result",
          "data": {
            "text/plain": [
              "[('Juan', 'J362'),\n",
              " ('Maria', 'M307'),\n",
              " ('José', 'J947'),\n",
              " ('Claudia', 'C677'),\n",
              " ('Ana', 'A540')]"
            ]
          },
          "metadata": {},
          "execution_count": 49
        }
      ]
    },
    {
      "cell_type": "markdown",
      "source": [
        "## 3.2 List comprehension\n",
        "\n",
        "Es una forma simple y concisa de crear una lista. Podemos aplicar condicionales y lazos para crear diversos tipos de listas a partir de patrones que deseamos para nuestra estructura de datos.\n",
        "\n",
        "https://docs.python.org/es/3/tutorial/datastructures.html?#list-comprehensions\n",
        "\n",
        "#### Formato estándar:\n",
        "\n",
        "```python\n",
        "[expresion for item in lista]\n",
        "```"
      ],
      "metadata": {
        "id": "srHAov19QCdb"
      }
    },
    {
      "cell_type": "markdown",
      "source": [
        "#### **Situación 8:**\n",
        "\n",
        "Recibimos la demanda de crear una lista con el promedio de los estudiantes de la lista de listas que creamos en la Situación 6, redondeando el promedio a una casilla decimal. Recordando que cada lista de la lista de listas contiene las tres notas de cada estudiante.\n",
        "\n",
        "**¿Vamos a resolver este desafío?**\n",
        "\n",
        "**Tip:** Utiliza el formato:\n",
        "```python\n",
        "[expresion for item in lista]\n",
        "```"
      ],
      "metadata": {
        "id": "l4HW0gDqecgM"
      }
    },
    {
      "cell_type": "code",
      "source": [
        "def promedio(lista: list=[0]) -> float:\n",
        "  ''' Función para calcular el promedio de notas en una lista\n",
        "\n",
        "  lista: list, default [0]\n",
        "    Lista con las notas para calcular el promedio\n",
        "  return = calculo: float\n",
        "    Promedio calculado\n",
        "  '''\n",
        "\n",
        "  calculo = sum(lista) / len(lista)\n",
        "\n",
        "  return calculo"
      ],
      "metadata": {
        "id": "J_atQRQdlpNe"
      },
      "execution_count": 6,
      "outputs": []
    },
    {
      "cell_type": "code",
      "source": [
        "notas = [[8.0, 9.0, 10.0], [9.0, 7.0, 6.0], [3.4, 7.0, 7.0], [5.5, 6.6, 8.0], [6.0, 10.0, 9.5]]"
      ],
      "metadata": {
        "id": "h7LeBrgnLAG6"
      },
      "execution_count": 4,
      "outputs": []
    },
    {
      "cell_type": "code",
      "source": [
        "promedios = [round(promedio(nota),1) for nota in notas]\n",
        "promedios"
      ],
      "metadata": {
        "id": "3j8_H7e8LAJZ",
        "colab": {
          "base_uri": "https://localhost:8080/"
        },
        "outputId": "9f9b90b5-418b-41b6-d84f-4d6e062d399c"
      },
      "execution_count": 7,
      "outputs": [
        {
          "output_type": "execute_result",
          "data": {
            "text/plain": [
              "[9.0, 7.3, 5.8, 6.7, 8.5]"
            ]
          },
          "metadata": {},
          "execution_count": 7
        }
      ]
    },
    {
      "cell_type": "markdown",
      "source": [
        "#### **Situación 9:**\n",
        "\n",
        "Ahora, necesitamos utilizar los promedios calculados en el ejemplo anterior, y agruparlos con el nombre de los respectivos estudiantes. Esto será necesario para generar una lista que seleccione a aquellos estudiantes que posean un promedio final mayor o igual a 8 para concursar por una beca de estudios para el próximo año lectivo. Los datos recibidos corresponden a una lista de tuplas con los nombres y los códigos de los estudiantes junto a la lista de promedios calculados previamente.\n",
        "\n",
        "**Nota: El número de código será diferente cada vez que se ejecute la celda que los genera, por lo tanto, es completamente normal que estos códigos sean diferentes.**\n",
        "\n",
        "**¿Vamos a resolver este desafío?**\n",
        "\n",
        "Para facilitar nuestra comprensión del proceso vamos a trabajar con un grupo de 5 estudiantes.\n",
        "\n",
        "**Tip:** Utiliza el formato:\n",
        "\n",
        "```python\n",
        "[expresion for item in lista if condicion]\n",
        "```"
      ],
      "metadata": {
        "id": "ApLjXlAdhJKd"
      }
    },
    {
      "cell_type": "code",
      "source": [
        "nombres = [('Juan', 'J362'), ('Maria', 'M307'), ('José', 'J947'), ('Claudia', 'C677'), ('Ana', 'A540')]\n",
        "promedios = [9.0, 7.3, 5.8, 6.7, 8.5]"
      ],
      "metadata": {
        "id": "QK-ubmmrLC7I"
      },
      "execution_count": 9,
      "outputs": []
    },
    {
      "cell_type": "code",
      "source": [
        "nombres = [nombre[0] for nombre in nombres]\n",
        "nombres"
      ],
      "metadata": {
        "id": "df1Q8GGELC9b",
        "colab": {
          "base_uri": "https://localhost:8080/"
        },
        "outputId": "6d15f67f-97e8-4f01-985e-947e319abbfd"
      },
      "execution_count": 10,
      "outputs": [
        {
          "output_type": "execute_result",
          "data": {
            "text/plain": [
              "['Juan', 'Maria', 'José', 'Claudia', 'Ana']"
            ]
          },
          "metadata": {},
          "execution_count": 10
        }
      ]
    },
    {
      "cell_type": "markdown",
      "source": [
        "<font color=green>**Tip:**</font> Para lograr parear los promedios y\n",
        "los nombres fácilmente, podemos acudir a otra  built-in function: `zip()`\n",
        "\n",
        "Esta recibe uno o más iterables (lista, string, dict, etc.) y los retorna como un iterador de tuplas donde cada elemento de los iterables es pareado."
      ],
      "metadata": {
        "id": "U6KAABs7Dfpe"
      }
    },
    {
      "cell_type": "code",
      "source": [
        "estudiantes = list(zip(nombres,promedios))\n",
        "estudiantes"
      ],
      "metadata": {
        "id": "841v92WvLEol",
        "colab": {
          "base_uri": "https://localhost:8080/"
        },
        "outputId": "1111dffb-cbe0-44fb-94ee-e2e9b612e302"
      },
      "execution_count": 14,
      "outputs": [
        {
          "output_type": "execute_result",
          "data": {
            "text/plain": [
              "[('Juan', 9.0), ('Maria', 7.3), ('José', 5.8), ('Claudia', 6.7), ('Ana', 8.5)]"
            ]
          },
          "metadata": {},
          "execution_count": 14
        }
      ]
    },
    {
      "cell_type": "code",
      "source": [
        "candidatos = [estudiantes[0] for estudiante in estudiantes if estudiante [1] >= 8]\n",
        "candidatos"
      ],
      "metadata": {
        "id": "U8b4G_2oLErp",
        "colab": {
          "base_uri": "https://localhost:8080/"
        },
        "outputId": "11d9b46f-59d5-43b0-965f-bd017a4e68a6"
      },
      "execution_count": 15,
      "outputs": [
        {
          "output_type": "execute_result",
          "data": {
            "text/plain": [
              "[('Juan', 9.0), ('Juan', 9.0)]"
            ]
          },
          "metadata": {},
          "execution_count": 15
        }
      ]
    },
    {
      "cell_type": "markdown",
      "source": [
        "#### **Situación 10:**\n",
        "\n",
        "Recibimos dos demandas sobre este proyecto con las notas de los estudiantes:\n",
        "- Crear una lista de la situación de los estudiantes considerando los siguientes casos: Si su promedio es mayor o igual a 7, recibirá el valor \"Aprobado\" y en caso contrario recibirá el valor \"Reprobado\".\n",
        "- Generar una lista de listas con:\n",
        "  - Lista de tuplas con el nombre de los estudiantes y sus códigos\n",
        "  - Lista de listas con las notas de cada estudiante\n",
        "  - Lista con los promedios de cada estudiante\n",
        "  - Lista de la situación de los estudiantes de acuerdo con los promedios\n",
        "\n",
        "Los datos que utilizaremos son los mismos que generamos en las situaciones anteriores (`nombres`, `notas`, `promedios`).\n",
        "\n",
        "**¿Vamos a resolver este desafío?**\n",
        "\n",
        "Para avanzar en el proceso, vamos a dejar escritas las estructuras de datos que ya produjimos.\n",
        "\n",
        "**Tip:** Para la lista de las situaciones utiliza el formato:\n",
        "```python\n",
        "[resultado_if if condicion else resultado_else for item in lista]\n",
        "```"
      ],
      "metadata": {
        "id": "9yzRDIB0fkeF"
      }
    },
    {
      "cell_type": "code",
      "source": [
        "nombres = [('Juan', 'J362'), ('Maria', 'M307'), ('José', 'J947'), ('Claudia', 'C677'), ('Ana', 'A540')]\n",
        "promedios = [9.0, 7.3, 5.8, 6.7, 8.5]\n",
        "notas = [[8.0, 9.0, 10.0], [9.0, 7.0, 6.0], [3.4, 7.0, 7.0], [5.5, 6.6, 8.0], [6.0, 10.0, 9.5]]"
      ],
      "metadata": {
        "id": "YGQIaCzkLGqd"
      },
      "execution_count": 16,
      "outputs": []
    },
    {
      "cell_type": "code",
      "source": [
        "situacion = [\"Aprobado(a)\" if promedio >= 7 else \"Reprobado(a)\" for promedio in promedios]\n",
        "situacion"
      ],
      "metadata": {
        "id": "OAAQHwE1LGs2",
        "colab": {
          "base_uri": "https://localhost:8080/"
        },
        "outputId": "4fdf5549-068d-4150-b25a-2986a77f6179"
      },
      "execution_count": 17,
      "outputs": [
        {
          "output_type": "execute_result",
          "data": {
            "text/plain": [
              "['Aprobado(a)', 'Aprobado(a)', 'Reprobado(a)', 'Reprobado(a)', 'Aprobado(a)']"
            ]
          },
          "metadata": {},
          "execution_count": 17
        }
      ]
    },
    {
      "cell_type": "markdown",
      "source": [
        "**Tip:** Para generar la lista de listas del enunciado podemos utilizar el siguiente formato:\n",
        "```python\n",
        "[expresion for item in lista de listas]\n",
        "```"
      ],
      "metadata": {
        "id": "0XsAi49IF9Ta"
      }
    },
    {
      "cell_type": "code",
      "source": [
        "registros = [x for x in [nombres, notas, promedios, situacion]]\n",
        "registros"
      ],
      "metadata": {
        "id": "1Dj6R1vTLIbI",
        "colab": {
          "base_uri": "https://localhost:8080/"
        },
        "outputId": "4cfe8172-2e6d-4614-d41a-e1eead8050e8"
      },
      "execution_count": 20,
      "outputs": [
        {
          "output_type": "execute_result",
          "data": {
            "text/plain": [
              "[[('Juan', 'J362'),\n",
              "  ('Maria', 'M307'),\n",
              "  ('José', 'J947'),\n",
              "  ('Claudia', 'C677'),\n",
              "  ('Ana', 'A540')],\n",
              " [[8.0, 9.0, 10.0],\n",
              "  [9.0, 7.0, 6.0],\n",
              "  [3.4, 7.0, 7.0],\n",
              "  [5.5, 6.6, 8.0],\n",
              "  [6.0, 10.0, 9.5]],\n",
              " [9.0, 7.3, 5.8, 6.7, 8.5],\n",
              " ['Aprobado(a)', 'Aprobado(a)', 'Reprobado(a)', 'Reprobado(a)', 'Aprobado(a)']]"
            ]
          },
          "metadata": {},
          "execution_count": 20
        }
      ]
    },
    {
      "cell_type": "code",
      "source": [
        "lista_completa = [nombres, notas, promedios, situacion]\n",
        "lista_completa"
      ],
      "metadata": {
        "id": "cTLEQQ2eLIqc",
        "colab": {
          "base_uri": "https://localhost:8080/"
        },
        "outputId": "0ac4080d-1577-4148-b083-c4f6a15c8bba"
      },
      "execution_count": 21,
      "outputs": [
        {
          "output_type": "execute_result",
          "data": {
            "text/plain": [
              "[[('Juan', 'J362'),\n",
              "  ('Maria', 'M307'),\n",
              "  ('José', 'J947'),\n",
              "  ('Claudia', 'C677'),\n",
              "  ('Ana', 'A540')],\n",
              " [[8.0, 9.0, 10.0],\n",
              "  [9.0, 7.0, 6.0],\n",
              "  [3.4, 7.0, 7.0],\n",
              "  [5.5, 6.6, 8.0],\n",
              "  [6.0, 10.0, 9.5]],\n",
              " [9.0, 7.3, 5.8, 6.7, 8.5],\n",
              " ['Aprobado(a)', 'Aprobado(a)', 'Reprobado(a)', 'Reprobado(a)', 'Aprobado(a)']]"
            ]
          },
          "metadata": {},
          "execution_count": 21
        }
      ]
    },
    {
      "cell_type": "markdown",
      "source": [
        "<font color=green>**Tip:**</font> Podemos acudir a la forma más simple de generación de lista de listas con el uso directo de los corchetes sin la necesidad de utilizar las expresiones y el lazo `for` que se emplea en la comprensión de listas."
      ],
      "metadata": {
        "id": "4hkHEZGbGH7X"
      }
    },
    {
      "cell_type": "code",
      "source": [
        "alturas = [1.70, 1.80, 1.65, 1.75, 1.90]\n",
        "pesos = [65, 80, 58, 70, 95]\n",
        "\n",
        "imc = [round((peso / altura**2), 1) for altura, peso in zip(alturas, pesos)]\n",
        "print(imc)"
      ],
      "metadata": {
        "id": "1tEtWzSoLKKg",
        "colab": {
          "base_uri": "https://localhost:8080/"
        },
        "outputId": "0a8065a8-e856-496f-a8a6-795b090a4ca1"
      },
      "execution_count": 22,
      "outputs": [
        {
          "output_type": "stream",
          "name": "stdout",
          "text": [
            "[22.5, 24.7, 21.3, 22.9, 26.3]\n"
          ]
        }
      ]
    },
    {
      "cell_type": "code",
      "source": [],
      "metadata": {
        "id": "lRk02Bm5LMB3"
      },
      "execution_count": null,
      "outputs": []
    },
    {
      "cell_type": "markdown",
      "source": [
        "## 3.3 Dict comprehension\n",
        "\n",
        "Es una forma simple y concisa de crear o modificar un diccionario. Podemos aplicar condicionales y lazos para crear diversos tipos de diccionarios a partir de los patrones que buscamos para nuestra estructura de datos y con el soporte de iterables como listas o sets.\n",
        "\n",
        "https://peps.python.org/pep-0274/\n",
        "\n",
        "#### Formato estándar:\n",
        "\n",
        "```python\n",
        "{llave: valor for item in lista}\n",
        "```"
      ],
      "metadata": {
        "id": "NmohhDl-QRpx"
      }
    },
    {
      "cell_type": "markdown",
      "source": [
        "#### **Situación 11:**\n",
        "\n",
        "Ahora, nuestra demanda consiste en generar un diccionario a partir de la lista de listas que creamos en la Situación 10 para entregar a la persona responsable por construir las tablas para el análisis de los datos.\n",
        "- Las llaves de nuestro diccionario serán las columnas identificando el tipo de dato\n",
        "- Los valores serán las listas con los datos correspondientes a aquella llave.\n",
        "\n",
        "**¿Vamos a resolver este desafío?**\n",
        "\n",
        "Para facilitar nuestra comprensión del proceso vamos a trabajar con un grupo de 5 estudiantes.\n",
        "\n",
        "**Tip:** Utiliza el formato\n",
        "\n",
        "```python\n",
        "{llave: valor for item in lista}\n",
        "```"
      ],
      "metadata": {
        "id": "kGt8hQXOKeIt"
      }
    },
    {
      "cell_type": "code",
      "source": [
        "lista_completa = [[('Juan', 'J362'),  ('Maria', 'M307'),  ('José', 'J947'),  ('Claudia', 'C677'),  ('Ana', 'A540')],\n",
        " [[8.0, 9.0, 10.0],  [9.0, 7.0, 6.0],  [3.4, 7.0, 7.0],  [5.5, 6.6, 8.0],  [6.0, 10.0, 9.5]],\n",
        " [9.0, 7.3, 5.8, 6.7, 8.5],\n",
        " ['Aprobado(a)', 'Aprobado(a)', 'Reprobado(a)', 'Reprobado(a)', 'Aprobado(a)']]"
      ],
      "metadata": {
        "id": "GuTwYw8NLNST"
      },
      "execution_count": 23,
      "outputs": []
    },
    {
      "cell_type": "code",
      "source": [
        "columas =[\"Notas\",\"Promedio Final\",\"Situacion\"]\n",
        "\n",
        "registro = {columas[i]: lista_completa[i+1] for i in range(len(columas))}\n",
        "registro"
      ],
      "metadata": {
        "id": "Ka1JPCuvLP4x",
        "colab": {
          "base_uri": "https://localhost:8080/"
        },
        "outputId": "e6802fe2-5e86-4fcf-a4e8-43d837f10d8e"
      },
      "execution_count": 24,
      "outputs": [
        {
          "output_type": "execute_result",
          "data": {
            "text/plain": [
              "{'Notas': [[8.0, 9.0, 10.0],\n",
              "  [9.0, 7.0, 6.0],\n",
              "  [3.4, 7.0, 7.0],\n",
              "  [5.5, 6.6, 8.0],\n",
              "  [6.0, 10.0, 9.5]],\n",
              " 'Promedio Final': [9.0, 7.3, 5.8, 6.7, 8.5],\n",
              " 'Situacion': ['Aprobado(a)',\n",
              "  'Aprobado(a)',\n",
              "  'Reprobado(a)',\n",
              "  'Reprobado(a)',\n",
              "  'Aprobado(a)']}"
            ]
          },
          "metadata": {},
          "execution_count": 24
        }
      ]
    },
    {
      "cell_type": "code",
      "source": [
        "registro[\"Estudiante\"] = [lista_completa[0][i][0] for i in range(len(lista_completa[0]))]\n",
        "registro"
      ],
      "metadata": {
        "id": "4GhlzfLbLP8L",
        "colab": {
          "base_uri": "https://localhost:8080/"
        },
        "outputId": "bca0bb1c-de0d-4fdc-ea98-d40395799db0"
      },
      "execution_count": 28,
      "outputs": [
        {
          "output_type": "execute_result",
          "data": {
            "text/plain": [
              "{'Notas': [[8.0, 9.0, 10.0],\n",
              "  [9.0, 7.0, 6.0],\n",
              "  [3.4, 7.0, 7.0],\n",
              "  [5.5, 6.6, 8.0],\n",
              "  [6.0, 10.0, 9.5]],\n",
              " 'Promedio Final': [9.0, 7.3, 5.8, 6.7, 8.5],\n",
              " 'Situacion': ['Aprobado(a)',\n",
              "  'Aprobado(a)',\n",
              "  'Reprobado(a)',\n",
              "  'Reprobado(a)',\n",
              "  'Aprobado(a)'],\n",
              " 'Estudiante': ['Juan', 'Maria', 'José', 'Claudia', 'Ana']}"
            ]
          },
          "metadata": {},
          "execution_count": 28
        }
      ]
    },
    {
      "cell_type": "markdown",
      "source": [
        "## <font color=green> 4. LIDIANDO CON EXCEPCIONES\n",
        "---"
      ],
      "metadata": {
        "id": "RxKC5WVoCYp3"
      }
    },
    {
      "cell_type": "markdown",
      "source": [
        "Hemos podido evidenciar hasta aquí la existencia de algunos errores y excepciones en la ejecución de algún comando. Como científico/a de datos o programador, necesitarás estar atento a estas situaciones para evitar bugs o problemas en tus códigos y análisis que puedan afectar la experiencia tanto del usuario como la eficiencia de su análisis.\n",
        "\n",
        "Existen básicamente dos formas distintas de errores: Los **errores de sintáxis** y las **excepciones**.\n",
        "\n",
        "Las excepciones son errores detectados durante la ejecución e interrumpen el flujo del programa cerrándolo en caso de que no sean tratadas.  \n",
        "\n",
        "Vamos a aprender a identificar y tratar algunas de las excepciones aquí, pero es siempre importante consultar la documentación para investigar y verificar cuáles se ajustan a sus proyectos.\n",
        "\n",
        "**Documentación sobre errores y excepciones:** https://docs.python.org/es/3/tutorial/errors.html"
      ],
      "metadata": {
        "id": "MzOZ_0M3CU1x"
      }
    },
    {
      "cell_type": "markdown",
      "source": [
        "## 4.1 Tratando las Excepciones\n",
        "\n",
        "El tratamiento de las excepciones contribuye a establecer un flujo alternativo para la ejecución del código evitando la interrupción de los procesos inesperadamente.\n",
        "\n",
        "Existe una serie de excepciones, y a partir del comportamiento que queremos, y de los errores que queremos tratar, es posible construir un camino para el usuario, o también, proveer más detalles sobre aquella excepción.\n",
        "\n",
        "- Jerarquía de las excepciones (https://docs.python.org/es/3/library/exceptions.html#exception-hierarchy)"
      ],
      "metadata": {
        "id": "x3E66krBST7K"
      }
    },
    {
      "cell_type": "markdown",
      "source": [
        "### Try ... Except\n",
        "\n",
        "```python\n",
        "try:\n",
        "  # código que será ejecutado. En caso de que surja una excepción, para inmediatamente\n",
        "except <nombre_de_la_excepcion as e>:\n",
        "  # Si surje una excepción en el try, ejecuta este código, si no, salta esta etapa\n",
        "```"
      ],
      "metadata": {
        "id": "h9lj8Wfk__cl"
      }
    },
    {
      "cell_type": "markdown",
      "source": [
        "#### **Situación 12:**\n",
        "\n",
        "Creaste un código que lee un diccionario con las notas de los estudiantes y querías retornar la lista de notas de un estudiante.\n",
        "\n",
        "En caso que el/la estudiante no esté matriculado(a) en el grupo debemos tratar la excepción para presentar el mensaje \"Estudiante no matriculado(a) en el grupo\".\n",
        "\n",
        "Vamos a trabajar en este ejemplo con la excepción **Key Error** que interrumpirá el processo de este trecho de código.\n",
        "\n",
        "**¿Vamos a probar este primer tratamiento?**\n",
        "\n"
      ],
      "metadata": {
        "id": "miwzhPNdD8Ty"
      }
    },
    {
      "cell_type": "code",
      "source": [
        "notas = {'Juan': [8.0, 9.0, 10.0], 'Maria': [9.0, 7.0, 6.0], 'José': [3.4, 7.0, 8.0], 'Claudia': [5.5, 6.6, 8.0],\n",
        "         'Ana': [6.0, 10.0, 9.5], 'Jorge': [5.5, 7.5, 9.0], 'Julia': [6.0, 8.0, 7.0], 'Pedro': [3.0, 4.0, 6.0]}"
      ],
      "metadata": {
        "id": "UvVbXY0XVm-f"
      },
      "execution_count": 29,
      "outputs": []
    },
    {
      "cell_type": "code",
      "source": [
        "nombre = input(\"Digite el nombre del estudiante: \")\n",
        "resultado = notas[nombre]\n",
        "resultado"
      ],
      "metadata": {
        "id": "rFBq02dbJtkF",
        "colab": {
          "base_uri": "https://localhost:8080/",
          "height": 193
        },
        "outputId": "f2f048ab-3fc8-4b46-a9fd-61534737fe88"
      },
      "execution_count": 30,
      "outputs": [
        {
          "name": "stdout",
          "output_type": "stream",
          "text": [
            "Digite el nombre del estudiante: michael\n"
          ]
        },
        {
          "output_type": "error",
          "ename": "KeyError",
          "evalue": "'michael'",
          "traceback": [
            "\u001b[0;31m---------------------------------------------------------------------------\u001b[0m",
            "\u001b[0;31mKeyError\u001b[0m                                  Traceback (most recent call last)",
            "\u001b[0;32m/tmp/ipython-input-4202900033.py\u001b[0m in \u001b[0;36m<cell line: 0>\u001b[0;34m()\u001b[0m\n\u001b[1;32m      1\u001b[0m \u001b[0mnombre\u001b[0m \u001b[0;34m=\u001b[0m \u001b[0minput\u001b[0m\u001b[0;34m(\u001b[0m\u001b[0;34m\"Digite el nombre del estudiante: \"\u001b[0m\u001b[0;34m)\u001b[0m\u001b[0;34m\u001b[0m\u001b[0;34m\u001b[0m\u001b[0m\n\u001b[0;32m----> 2\u001b[0;31m \u001b[0mresultado\u001b[0m \u001b[0;34m=\u001b[0m \u001b[0mnotas\u001b[0m\u001b[0;34m[\u001b[0m\u001b[0mnombre\u001b[0m\u001b[0;34m]\u001b[0m\u001b[0;34m\u001b[0m\u001b[0;34m\u001b[0m\u001b[0m\n\u001b[0m\u001b[1;32m      3\u001b[0m \u001b[0mresultado\u001b[0m\u001b[0;34m\u001b[0m\u001b[0;34m\u001b[0m\u001b[0m\n",
            "\u001b[0;31mKeyError\u001b[0m: 'michael'"
          ]
        }
      ]
    },
    {
      "cell_type": "code",
      "source": [
        "try:\n",
        "  nombre = input(\"Digite el nombre del estudiante: \")\n",
        "  resultado = notas[nombre]\n",
        "except Exception as e:\n",
        "  print(type(e), e)"
      ],
      "metadata": {
        "id": "IZwxTL1EJvRl",
        "colab": {
          "base_uri": "https://localhost:8080/"
        },
        "outputId": "b161decd-0b3c-44a8-d7b2-e93385ecbaeb"
      },
      "execution_count": 31,
      "outputs": [
        {
          "output_type": "stream",
          "name": "stdout",
          "text": [
            "Digite el nombre del estudiante: michael\n",
            "<class 'KeyError'> 'michael'\n"
          ]
        }
      ]
    },
    {
      "cell_type": "code",
      "source": [
        "try:\n",
        "  nombre = input(\"Digite el nombre del estudiante: \")\n",
        "  resultado = notas[nombre]\n",
        "except KeyError:\n",
        "  print(\"Estudiante no matriculado(a) en el grupo\")"
      ],
      "metadata": {
        "id": "h3nYebay1ZVd",
        "outputId": "477c9305-72aa-4337-b4b3-d4a6426ca96e",
        "colab": {
          "base_uri": "https://localhost:8080/"
        }
      },
      "execution_count": 32,
      "outputs": [
        {
          "output_type": "stream",
          "name": "stdout",
          "text": [
            "Digite el nombre del estudiante: michael\n",
            "Estudiante no matriculado(a) en el grupo\n"
          ]
        }
      ]
    },
    {
      "cell_type": "markdown",
      "source": [
        "### Agregando la cláusula Else\n",
        "\n",
        "```python\n",
        "try:\n",
        "  # código que será ejecutado. En caso de que surja una excepción, para inmediatamente\n",
        "except:\n",
        "  # Si surje una excepción en el try, ejecuta este código, si no, salta esta etapa\n",
        "else:\n",
        "  # Si no surjen excepciones, ejecuta esta parte del código\n",
        "```"
      ],
      "metadata": {
        "id": "hKhKzgQoBHLb"
      }
    },
    {
      "cell_type": "markdown",
      "source": [
        "#### **Situación 13:**\n",
        "\n",
        "Creaste un código que lee un diccionario con las notas de los estudiantes y querías retornar la lista de notas de un estudiante.\n",
        "\n",
        "En caso de que el/la estudiante no esté matriculado(a) en la clase, debe aparecer el siguiente mensaje: \"Estudiante no matriculado(a) en el grupo\" y, si no surje la excepción, debemos exhibir la lista con las notas del(la) estudiante.\n",
        "\n",
        "Vamos a trabajar en este ejemplo con la excepción **Key Error** que interrumpirá el proceso de este trecho de código.\n",
        "\n",
        "**¿Vamos a probar este tratamiento?**\n"
      ],
      "metadata": {
        "id": "USN3SA2tMjL0"
      }
    },
    {
      "cell_type": "code",
      "source": [
        "try:\n",
        "  nombre = input(\"Digite el nombre del estudiante: \")\n",
        "  resultado = notas[nombre]\n",
        "except KeyError:\n",
        "  print(\"Estudiante no matriculado(a) en el grupo\")\n",
        "else:\n",
        " print(resultado)"
      ],
      "metadata": {
        "id": "Qr_4-D3UJxcE",
        "colab": {
          "base_uri": "https://localhost:8080/"
        },
        "outputId": "2683b83e-1310-451b-e956-a2ac2d8c79d2"
      },
      "execution_count": 34,
      "outputs": [
        {
          "output_type": "stream",
          "name": "stdout",
          "text": [
            "Digite el nombre del estudiante: michael\n",
            "Estudiante no matriculado(a) en el grupo\n"
          ]
        }
      ]
    },
    {
      "cell_type": "code",
      "source": [
        "try:\n",
        "  nombre = input(\"Digite el nombre del estudiante: \")\n",
        "  resultado = notas[nombre]\n",
        "except KeyError:\n",
        "  print(\"Estudiante no matriculado(a) en el grupo\")\n",
        "else:\n",
        " print(f\"Las notas del estudiante son: {resultado}.\")"
      ],
      "metadata": {
        "id": "uy2xPGXoJzXS",
        "colab": {
          "base_uri": "https://localhost:8080/"
        },
        "outputId": "23b81728-0e9e-4a8f-98b7-d846b77bc57a"
      },
      "execution_count": 38,
      "outputs": [
        {
          "output_type": "stream",
          "name": "stdout",
          "text": [
            "Digite el nombre del estudiante: Maria\n",
            "Las notas del estudiante son: [9.0, 7.0, 6.0].\n"
          ]
        }
      ]
    },
    {
      "cell_type": "markdown",
      "source": [
        "### Añadiendo la cláusula finally\n",
        "\n",
        "```python\n",
        "try:\n",
        "  # código que será ejecutado. En caso de que surja una excepción, para inmediatamente\n",
        "except:\n",
        "  # Si surje una excepción en el try, ejecuta este código, si no, salta esta etapa\n",
        "else:\n",
        "  # Si no surjen excepciones, ejecuta esta parte del código\n",
        "finally:\n",
        "  # Ejecuta este trecho (con o sin excepción)\n",
        "```"
      ],
      "metadata": {
        "id": "Dw_efTlbBhll"
      }
    },
    {
      "cell_type": "markdown",
      "source": [
        "#### **Situación 14:**\n",
        "\n",
        "Creaste un código que lee un diccionario con las notas de los estudiantes y querías retornar la lista de notas de un estudiante.\n",
        "\n",
        "En caso de que el/la estudiante no esté matriculado(a) en la clase, debe aparecer el siguiente mensaje: \"Estudiante no matriculado(a) en el grupo\" y, si no surje la excepción, debemos exhibir la lista con las notas del(la) estudiante. Un texto avisando que \"La consulta ha concluído.\" debe ser mostrado independientemente de si surgió o no alguna excepción.\n",
        "\n",
        "\n",
        "Vamos a trabajar en este ejemplo con la excepción **Key Error** que interrumpirá el proceso de este trecho del código.\n",
        "\n",
        "**¿Vamos a probar este tratamiento?**"
      ],
      "metadata": {
        "id": "jGtFVx5GdnsS"
      }
    },
    {
      "cell_type": "code",
      "source": [
        "try:\n",
        "  nombre = input(\"Digite el nombre del estudiante: \")\n",
        "  resultado = notas[nombre]\n",
        "except KeyError:\n",
        "  print(\"Estudiante no matriculado(a) en el grupo\")\n",
        "else:\n",
        " print(resultado)\n",
        "finally:\n",
        "  print(\"La consulta ha concluído.\")"
      ],
      "metadata": {
        "id": "PwdLYP_zJ04s",
        "colab": {
          "base_uri": "https://localhost:8080/"
        },
        "outputId": "95b1da73-bf6f-4f60-8b61-22e6da2df60c"
      },
      "execution_count": 39,
      "outputs": [
        {
          "output_type": "stream",
          "name": "stdout",
          "text": [
            "Digite el nombre del estudiante: Michael\n",
            "Estudiante no matriculado(a) en el grupo\n",
            "La consulta ha concluído.\n"
          ]
        }
      ]
    },
    {
      "cell_type": "code",
      "source": [
        "try:\n",
        "  nombre = input(\"Digite el nombre del estudiante: \")\n",
        "  resultado = notas[nombre]\n",
        "except KeyError:\n",
        "  print(\"Estudiante no matriculado(a) en el grupo\")\n",
        "else:\n",
        " print(f\"Las notas del/ de la estuadiante son :{resultado}.\")\n",
        "finally:\n",
        "  print(\"La consulta ha concluído.\")"
      ],
      "metadata": {
        "id": "pv0BaQ95J1BA",
        "colab": {
          "base_uri": "https://localhost:8080/"
        },
        "outputId": "35983c7a-b3d6-4abd-e54f-6d807529dd30"
      },
      "execution_count": 40,
      "outputs": [
        {
          "output_type": "stream",
          "name": "stdout",
          "text": [
            "Digite el nombre del estudiante: Claudia\n",
            "[5.5, 6.6, 8.0]\n",
            "La consulta ha concluído.\n"
          ]
        }
      ]
    },
    {
      "cell_type": "markdown",
      "source": [
        "## 4.2 Raise\n",
        "\n",
        "Otra forma de trabajar con las excepciones en tu código, es generando tus propias excepciones para determinados comportamientos que deseas en tu código.\n",
        "\n",
        "Para ello, utilizamos la palabra clave `raise` junto al tipo de excepción que se desea mostrar y el mensaje que será exhibido.   "
      ],
      "metadata": {
        "id": "HdjllLBpST_2"
      }
    },
    {
      "cell_type": "markdown",
      "source": [
        "```python\n",
        "raise NombreDelError(\"Mensaje deseado.\")\n",
        "```"
      ],
      "metadata": {
        "id": "_nIOnDQufv6Z"
      }
    },
    {
      "cell_type": "markdown",
      "source": [
        "#### **Situação 15:**\n",
        "\n",
        "Creaste una función para calcular el promedio de un estudiante en una determinada materia pasando en una lista las notas de este estudiante.\n",
        "\n",
        "Pretendes tratar 2 situaciones:\n",
        "\n",
        "- Si la lista posee un valor no numérico el cálculo de promedio no será ejecutado y un mensaje de \"No fue posible calcular el promedio del(la) estudiante. Solo se admiten valores numéricos!\" será exhibido.\n",
        "\n",
        "- En caso que la lista tenga más de 4 notas, surgirá una excepción del tipo **ValueError** informando que \"La lista no puede poseer más de 4 notas.\"\n",
        "\n",
        "Un texto avisando que \"La consulta ha concluído.\" debe ser mostrado independientemente de si surgió o no alguna excepción.\n",
        "\n",
        "**¿Vamos a resolver este desafío?**"
      ],
      "metadata": {
        "id": "xapeB2ivgB7R"
      }
    },
    {
      "cell_type": "code",
      "source": [
        "def promedio(lista: list=[0]) -> float:\n",
        "  ''' Función para calcular el promedio de notas en una lista\n",
        "\n",
        "  lista: list, default [0]\n",
        "    Lista con las notas para calcular el promedio\n",
        "  return = calculo: float\n",
        "    Promedio calculado\n",
        "  '''\n",
        "\n",
        "  calculo = sum(lista) / len(lista)\n",
        "\n",
        "  if len(lista) > 4:\n",
        "    raise ValueError(\"La lista no puede poseer más de 4 notas.\")\n",
        "\n",
        "  return calculo"
      ],
      "metadata": {
        "id": "kKeFuHUfhSfa"
      },
      "execution_count": 41,
      "outputs": []
    },
    {
      "cell_type": "code",
      "source": [
        "notas = [6,7,8,9,10]\n",
        "resultado = promedio(notas)\n",
        "resultado"
      ],
      "metadata": {
        "id": "_ghW6hb9KBpU",
        "colab": {
          "base_uri": "https://localhost:8080/",
          "height": 297
        },
        "outputId": "7f77a4eb-c1ff-481d-fac6-105655ec2b7f"
      },
      "execution_count": 42,
      "outputs": [
        {
          "output_type": "error",
          "ename": "ValueError",
          "evalue": "La lista no puede poseer más de 4 notas.",
          "traceback": [
            "\u001b[0;31m---------------------------------------------------------------------------\u001b[0m",
            "\u001b[0;31mValueError\u001b[0m                                Traceback (most recent call last)",
            "\u001b[0;32m/tmp/ipython-input-2338021814.py\u001b[0m in \u001b[0;36m<cell line: 0>\u001b[0;34m()\u001b[0m\n\u001b[1;32m      1\u001b[0m \u001b[0mnotas\u001b[0m \u001b[0;34m=\u001b[0m \u001b[0;34m[\u001b[0m\u001b[0;36m6\u001b[0m\u001b[0;34m,\u001b[0m\u001b[0;36m7\u001b[0m\u001b[0;34m,\u001b[0m\u001b[0;36m8\u001b[0m\u001b[0;34m,\u001b[0m\u001b[0;36m9\u001b[0m\u001b[0;34m,\u001b[0m\u001b[0;36m10\u001b[0m\u001b[0;34m]\u001b[0m\u001b[0;34m\u001b[0m\u001b[0;34m\u001b[0m\u001b[0m\n\u001b[0;32m----> 2\u001b[0;31m \u001b[0mresultado\u001b[0m \u001b[0;34m=\u001b[0m \u001b[0mpromedio\u001b[0m\u001b[0;34m(\u001b[0m\u001b[0mnotas\u001b[0m\u001b[0;34m)\u001b[0m\u001b[0;34m\u001b[0m\u001b[0;34m\u001b[0m\u001b[0m\n\u001b[0m\u001b[1;32m      3\u001b[0m \u001b[0mresultado\u001b[0m\u001b[0;34m\u001b[0m\u001b[0;34m\u001b[0m\u001b[0m\n",
            "\u001b[0;32m/tmp/ipython-input-4263714372.py\u001b[0m in \u001b[0;36mpromedio\u001b[0;34m(lista)\u001b[0m\n\u001b[1;32m     11\u001b[0m \u001b[0;34m\u001b[0m\u001b[0m\n\u001b[1;32m     12\u001b[0m   \u001b[0;32mif\u001b[0m \u001b[0mlen\u001b[0m\u001b[0;34m(\u001b[0m\u001b[0mlista\u001b[0m\u001b[0;34m)\u001b[0m \u001b[0;34m>\u001b[0m \u001b[0;36m4\u001b[0m\u001b[0;34m:\u001b[0m\u001b[0;34m\u001b[0m\u001b[0;34m\u001b[0m\u001b[0m\n\u001b[0;32m---> 13\u001b[0;31m     \u001b[0;32mraise\u001b[0m \u001b[0mValueError\u001b[0m\u001b[0;34m(\u001b[0m\u001b[0;34m\"La lista no puede poseer más de 4 notas.\"\u001b[0m\u001b[0;34m)\u001b[0m\u001b[0;34m\u001b[0m\u001b[0;34m\u001b[0m\u001b[0m\n\u001b[0m\u001b[1;32m     14\u001b[0m \u001b[0;34m\u001b[0m\u001b[0m\n\u001b[1;32m     15\u001b[0m   \u001b[0;32mreturn\u001b[0m \u001b[0mcalculo\u001b[0m\u001b[0;34m\u001b[0m\u001b[0;34m\u001b[0m\u001b[0m\n",
            "\u001b[0;31mValueError\u001b[0m: La lista no puede poseer más de 4 notas."
          ]
        }
      ]
    },
    {
      "cell_type": "code",
      "source": [
        "notas = [6,7,8,9,\"10\"]\n",
        "resultado = promedio(notas)\n",
        "resultado"
      ],
      "metadata": {
        "id": "X2To8kJdKGFk",
        "colab": {
          "base_uri": "https://localhost:8080/",
          "height": 297
        },
        "outputId": "7a57ea3d-ccfa-45cc-e659-68f54d0ad688"
      },
      "execution_count": 43,
      "outputs": [
        {
          "output_type": "error",
          "ename": "TypeError",
          "evalue": "unsupported operand type(s) for +: 'int' and 'str'",
          "traceback": [
            "\u001b[0;31m---------------------------------------------------------------------------\u001b[0m",
            "\u001b[0;31mTypeError\u001b[0m                                 Traceback (most recent call last)",
            "\u001b[0;32m/tmp/ipython-input-986208811.py\u001b[0m in \u001b[0;36m<cell line: 0>\u001b[0;34m()\u001b[0m\n\u001b[1;32m      1\u001b[0m \u001b[0mnotas\u001b[0m \u001b[0;34m=\u001b[0m \u001b[0;34m[\u001b[0m\u001b[0;36m6\u001b[0m\u001b[0;34m,\u001b[0m\u001b[0;36m7\u001b[0m\u001b[0;34m,\u001b[0m\u001b[0;36m8\u001b[0m\u001b[0;34m,\u001b[0m\u001b[0;36m9\u001b[0m\u001b[0;34m,\u001b[0m\u001b[0;34m\"10\"\u001b[0m\u001b[0;34m]\u001b[0m\u001b[0;34m\u001b[0m\u001b[0;34m\u001b[0m\u001b[0m\n\u001b[0;32m----> 2\u001b[0;31m \u001b[0mresultado\u001b[0m \u001b[0;34m=\u001b[0m \u001b[0mpromedio\u001b[0m\u001b[0;34m(\u001b[0m\u001b[0mnotas\u001b[0m\u001b[0;34m)\u001b[0m\u001b[0;34m\u001b[0m\u001b[0;34m\u001b[0m\u001b[0m\n\u001b[0m\u001b[1;32m      3\u001b[0m \u001b[0mresultado\u001b[0m\u001b[0;34m\u001b[0m\u001b[0;34m\u001b[0m\u001b[0m\n",
            "\u001b[0;32m/tmp/ipython-input-4263714372.py\u001b[0m in \u001b[0;36mpromedio\u001b[0;34m(lista)\u001b[0m\n\u001b[1;32m      8\u001b[0m   '''\n\u001b[1;32m      9\u001b[0m \u001b[0;34m\u001b[0m\u001b[0m\n\u001b[0;32m---> 10\u001b[0;31m   \u001b[0mcalculo\u001b[0m \u001b[0;34m=\u001b[0m \u001b[0msum\u001b[0m\u001b[0;34m(\u001b[0m\u001b[0mlista\u001b[0m\u001b[0;34m)\u001b[0m \u001b[0;34m/\u001b[0m \u001b[0mlen\u001b[0m\u001b[0;34m(\u001b[0m\u001b[0mlista\u001b[0m\u001b[0;34m)\u001b[0m\u001b[0;34m\u001b[0m\u001b[0;34m\u001b[0m\u001b[0m\n\u001b[0m\u001b[1;32m     11\u001b[0m \u001b[0;34m\u001b[0m\u001b[0m\n\u001b[1;32m     12\u001b[0m   \u001b[0;32mif\u001b[0m \u001b[0mlen\u001b[0m\u001b[0;34m(\u001b[0m\u001b[0mlista\u001b[0m\u001b[0;34m)\u001b[0m \u001b[0;34m>\u001b[0m \u001b[0;36m4\u001b[0m\u001b[0;34m:\u001b[0m\u001b[0;34m\u001b[0m\u001b[0;34m\u001b[0m\u001b[0m\n",
            "\u001b[0;31mTypeError\u001b[0m: unsupported operand type(s) for +: 'int' and 'str'"
          ]
        }
      ]
    },
    {
      "cell_type": "code",
      "source": [
        "try:\n",
        "  notas = [6,7,8,9,6,\"10\"]\n",
        "  resultado = promedio(notas)\n",
        "except ValueError as e:\n",
        "  print(e)\n",
        "except TypeError:\n",
        "  print(\"No fue posible calcular el promedio del(la) estudiante. Solo se admiten valores numéricos!\")\n",
        "else:\n",
        "  print(f\"Las notas del/ de la estuadiante son :{resultado}.\")\n",
        "finally:\n",
        "  print(\"La consulta ha concluído.\")"
      ],
      "metadata": {
        "id": "nrCsWqX6KGIA",
        "colab": {
          "base_uri": "https://localhost:8080/"
        },
        "outputId": "4c5e1d83-6370-4fd4-e969-f8fb21d00387"
      },
      "execution_count": 47,
      "outputs": [
        {
          "output_type": "stream",
          "name": "stdout",
          "text": [
            "No fue posible calcular el promedio del(la) estudiante. Solo se admiten valores numéricos!\n",
            "La consulta ha concluído.\n"
          ]
        }
      ]
    },
    {
      "cell_type": "code",
      "source": [
        "try:\n",
        "  notas = [6,7,8,9,6,]\n",
        "  resultado = promedio(notas)\n",
        "except ValueError as e:\n",
        "  print(e)\n",
        "except TypeError:\n",
        "  print(\"No fue posible calcular el promedio del(la) estudiante. Solo se admiten valores numéricos!\")\n",
        "else:\n",
        "  print(f\"Las notas del/ de la estuadiante son :{resultado}.\")\n",
        "finally:\n",
        "  print(\"La consulta ha concluído.\")"
      ],
      "metadata": {
        "id": "O2gdRbx38FWd",
        "outputId": "f53d5c92-61f1-4314-db3e-73154a47fb5e",
        "colab": {
          "base_uri": "https://localhost:8080/"
        }
      },
      "execution_count": 48,
      "outputs": [
        {
          "output_type": "stream",
          "name": "stdout",
          "text": [
            "La lista no puede poseer más de 4 notas.\n",
            "La consulta ha concluído.\n"
          ]
        }
      ]
    },
    {
      "cell_type": "code",
      "source": [
        "try:\n",
        "  notas = [6,7,8,9,]\n",
        "  resultado = promedio(notas)\n",
        "except ValueError as e:\n",
        "  print(e)\n",
        "except TypeError:\n",
        "  print(\"No fue posible calcular el promedio del(la) estudiante. Solo se admiten valores numéricos!\")\n",
        "else:\n",
        "  print(f\"Las notas del/ de la estuadiante son :{resultado}.\")\n",
        "finally:\n",
        "  print(\"La consulta ha concluído.\")"
      ],
      "metadata": {
        "id": "prdG8ygd8FlQ",
        "outputId": "bba84de5-ee11-4bf4-9b47-e9c238df8c07",
        "colab": {
          "base_uri": "https://localhost:8080/"
        }
      },
      "execution_count": 49,
      "outputs": [
        {
          "output_type": "stream",
          "name": "stdout",
          "text": [
            "Las notas del/ de la estuadiante son :7.5.\n",
            "La consulta ha concluído.\n"
          ]
        }
      ]
    }
  ]
}